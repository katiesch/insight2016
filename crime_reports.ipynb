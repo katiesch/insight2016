{
 "cells": [
  {
   "cell_type": "code",
   "execution_count": 1,
   "metadata": {
    "collapsed": true
   },
   "outputs": [],
   "source": [
    "import numpy as np \n",
    "import pandas as pd \n",
    "import matplotlib.pyplot as plt\n",
    "from matplotlib.patches import Polygon\n",
    "\n",
    "import shapefile as sf\n",
    "from pyproj import Proj\n",
    "from censusgeocode import CensusGeocode\n",
    "\n",
    "import datetime\n",
    "\n",
    "%matplotlib inline"
   ]
  },
  {
   "cell_type": "code",
   "execution_count": 2,
   "metadata": {
    "collapsed": false
   },
   "outputs": [],
   "source": [
    "crime_reports = pd.read_csv('ARJISPublicCrime091416.csv')"
   ]
  },
  {
   "cell_type": "code",
   "execution_count": 3,
   "metadata": {
    "collapsed": false
   },
   "outputs": [
    {
     "data": {
      "text/plain": [
       "array(['agency', 'Charge_Description_Orig', 'activityDate',\n",
       "       'BLOCK_ADDRESS', 'ZipCode', 'community'], dtype=object)"
      ]
     },
     "execution_count": 3,
     "metadata": {},
     "output_type": "execute_result"
    }
   ],
   "source": [
    "crime_reports.columns.values"
   ]
  },
  {
   "cell_type": "code",
   "execution_count": 8,
   "metadata": {
    "collapsed": false
   },
   "outputs": [],
   "source": [
    "crime_reports['BLOCK_ADDRESS'] = crime_reports['BLOCK_ADDRESS'].replace({'BLOCK': ''}, regex=True)"
   ]
  },
  {
   "cell_type": "code",
   "execution_count": 9,
   "metadata": {
    "collapsed": true
   },
   "outputs": [],
   "source": [
    "cg = CensusGeocode()"
   ]
  },
  {
   "cell_type": "code",
   "execution_count": 10,
   "metadata": {
    "collapsed": true
   },
   "outputs": [],
   "source": [
    "crime_reports['lat'] = None\n",
    "crime_reports['lon'] = None \n",
    "crime_reports['tract'] = None\n",
    "crime_reports['blockgroup'] = None \n",
    "crime_reports['block '] = None"
   ]
  },
  {
   "cell_type": "code",
   "execution_count": null,
   "metadata": {
    "collapsed": false,
    "scrolled": true
   },
   "outputs": [
    {
     "name": "stdout",
     "output_type": "stream",
     "text": [
      "66304\n",
      "21900 Time Diff:  0:01:23.693104 Finish Time:  2016-09-19 10:52:52.178207\n"
     ]
    }
   ],
   "source": [
    "start = datetime.datetime.now()\n",
    "\n",
    "print len(crime_reports)\n",
    "\n",
    "for i in range(21833,len(crime_reports)): \n",
    "    address1 = crime_reports.loc[i, 'BLOCK_ADDRESS']\n",
    "    n_attempts = 0\n",
    "    while True: \n",
    "        try: \n",
    "            n_attempts += 1\n",
    "            temp = cg.address(address1, city=crime_reports.loc[i, 'community'], state='CA')\n",
    "            break \n",
    "        except: \n",
    "            if n_attempts>=5: \n",
    "                print 'bad in try1 ' + address1\n",
    "                break \n",
    "    if (temp!=[]): \n",
    "        if (len(temp)>0): \n",
    "            crime_reports.loc[i, 'lon'] = temp[0]['coordinates']['x']\n",
    "            crime_reports.loc[i, 'lat'] = temp[0]['coordinates']['y']\n",
    "            \n",
    "            if ('status' not in temp[0]['geographies']['2010 Census Blocks'][0].keys()[0]): \n",
    "                crime_reports.loc[i, 'tract'] = temp[0]['geographies']['2010 Census Blocks'][0]['TRACT']\n",
    "                crime_reports.loc[i, 'block'] = temp[0]['geographies']['2010 Census Blocks'][0]['BLOCK']\n",
    "                crime_reports.loc[i, 'blockgroup'] = temp[0]['geographies']['2010 Census Blocks'][0]['BLKGRP']\n",
    "\n",
    "    if (i % 100 == 0): \n",
    "        finish = datetime.datetime.now()\n",
    "        print i, 'Time Diff: ', finish-start, 'Finish Time: ', finish\n",
    "        start = datetime.datetime.now()\n",
    "\n",
    "    if (i % 250 == 0): \n",
    "        crime_reports.to_csv('output_files/crime_reports_prelim.csv', index=False)"
   ]
  },
  {
   "cell_type": "code",
   "execution_count": 387,
   "metadata": {
    "collapsed": false
   },
   "outputs": [
    {
     "name": "stdout",
     "output_type": "stream",
     "text": [
      "21833\n",
      "1300   PARK BOULEVARD\n"
     ]
    }
   ],
   "source": [
    "print i\n",
    "print address1"
   ]
  },
  {
   "cell_type": "code",
   "execution_count": 388,
   "metadata": {
    "collapsed": true
   },
   "outputs": [],
   "source": [
    "for i in range(21830,21840): \n",
    "    address1 = crime_reports.loc[i, 'BLOCK_ADDRESS']\n",
    "    n_attempts = 0\n",
    "    while True: \n",
    "        try: \n",
    "            n_attempts += 1\n",
    "            temp = cg.address(address1, city=crime_reports.loc[i, 'community'], state='CA')\n",
    "            break \n",
    "        except: \n",
    "            if n_attempts>=5: \n",
    "                print 'bad in try1 ' + address1\n",
    "                break \n",
    "        \n",
    "    if (temp!=[]): \n",
    "        if (len(temp)>0): \n",
    "            crime_reports.loc[i, 'lon'] = temp[0]['coordinates']['x']\n",
    "            crime_reports.loc[i, 'lat'] = temp[0]['coordinates']['y']\n",
    "            \n",
    "            if ('status' not in temp[0]['geographies']['2010 Census Blocks'][0].keys()[0]): \n",
    "                crime_reports.loc[i, 'tract'] = temp[0]['geographies']['2010 Census Blocks'][0]['TRACT']\n",
    "                crime_reports.loc[i, 'block'] = temp[0]['geographies']['2010 Census Blocks'][0]['BLOCK']\n",
    "                crime_reports.loc[i, 'blockgroup'] = temp[0]['geographies']['2010 Census Blocks'][0]['BLKGRP']\n",
    "\n",
    "\n"
   ]
  },
  {
   "cell_type": "code",
   "execution_count": 373,
   "metadata": {
    "collapsed": true
   },
   "outputs": [],
   "source": [
    "crime_reports.to_csv('output_files/crime_reports_prelim.csv', index=False)"
   ]
  },
  {
   "cell_type": "code",
   "execution_count": 172,
   "metadata": {
    "collapsed": false
   },
   "outputs": [],
   "source": [
    "temp = cg.address(address1, city='San Diego', state='CA')"
   ]
  },
  {
   "cell_type": "code",
   "execution_count": 234,
   "metadata": {
    "collapsed": false
   },
   "outputs": [],
   "source": [
    "if (temp!=[]): \n",
    "    print 'hello'"
   ]
  },
  {
   "cell_type": "code",
   "execution_count": 235,
   "metadata": {
    "collapsed": false
   },
   "outputs": [
    {
     "ename": "IndexError",
     "evalue": "list index out of range",
     "output_type": "error",
     "traceback": [
      "\u001b[0;31m---------------------------------------------------------------------------\u001b[0m",
      "\u001b[0;31mIndexError\u001b[0m                                Traceback (most recent call last)",
      "\u001b[0;32m<ipython-input-235-cca694d030c5>\u001b[0m in \u001b[0;36m<module>\u001b[0;34m()\u001b[0m\n\u001b[0;32m----> 1\u001b[0;31m \u001b[0mtemp\u001b[0m\u001b[0;34m[\u001b[0m\u001b[0;36m0\u001b[0m\u001b[0;34m]\u001b[0m\u001b[0;34m[\u001b[0m\u001b[0;34m'geographies'\u001b[0m\u001b[0;34m]\u001b[0m\u001b[0;34m[\u001b[0m\u001b[0;34m'2010 Census Blocks'\u001b[0m\u001b[0;34m]\u001b[0m\u001b[0;34m[\u001b[0m\u001b[0;36m0\u001b[0m\u001b[0;34m]\u001b[0m\u001b[0;34m.\u001b[0m\u001b[0mkeys\u001b[0m\u001b[0;34m(\u001b[0m\u001b[0;34m)\u001b[0m\u001b[0;34m[\u001b[0m\u001b[0;36m0\u001b[0m\u001b[0;34m]\u001b[0m\u001b[0;34m\u001b[0m\u001b[0m\n\u001b[0m",
      "\u001b[0;31mIndexError\u001b[0m: list index out of range"
     ]
    }
   ],
   "source": [
    "temp[0]['geographies']['2010 Census Blocks'][0].keys()[0]"
   ]
  },
  {
   "cell_type": "code",
   "execution_count": 175,
   "metadata": {
    "collapsed": false
   },
   "outputs": [
    {
     "data": {
      "text/plain": [
       "1"
      ]
     },
     "execution_count": 175,
     "metadata": {},
     "output_type": "execute_result"
    }
   ],
   "source": [
    "temp = cg.address('1000  2ND AV', city='San Diego', state='CA')\n",
    "len(temp)"
   ]
  },
  {
   "cell_type": "markdown",
   "metadata": {},
   "source": [
    "Organise arrests by tract and block group"
   ]
  },
  {
   "cell_type": "code",
   "execution_count": 31,
   "metadata": {
    "collapsed": true
   },
   "outputs": [],
   "source": [
    "crime_reports['arrests_count'] = 1.0"
   ]
  },
  {
   "cell_type": "code",
   "execution_count": 28,
   "metadata": {
    "collapsed": false
   },
   "outputs": [],
   "source": [
    "crime_reports['tract'] = crime_reports['tract'].astype(float)\n",
    "crime_reports['blockgroup'] = crime_reports['blockgroup'].astype(float)"
   ]
  },
  {
   "cell_type": "code",
   "execution_count": 39,
   "metadata": {
    "collapsed": false
   },
   "outputs": [],
   "source": [
    "pa_by_bg = crime_reports[['tract', 'blockgroup', 'pa_count']].groupby(['tract','blockgroup'], as_index=False).agg('count')"
   ]
  },
  {
   "cell_type": "code",
   "execution_count": 40,
   "metadata": {
    "collapsed": true
   },
   "outputs": [],
   "source": [
    "#cpa_by_bg.to_csv('output_files/crime_reports_bg.csv', index=False)"
   ]
  },
  {
   "cell_type": "code",
   "execution_count": null,
   "metadata": {
    "collapsed": true
   },
   "outputs": [],
   "source": []
  }
 ],
 "metadata": {
  "anaconda-cloud": {},
  "kernelspec": {
   "display_name": "Python [default]",
   "language": "python",
   "name": "python2"
  },
  "language_info": {
   "codemirror_mode": {
    "name": "ipython",
    "version": 2
   },
   "file_extension": ".py",
   "mimetype": "text/x-python",
   "name": "python",
   "nbconvert_exporter": "python",
   "pygments_lexer": "ipython2",
   "version": "2.7.12"
  }
 },
 "nbformat": 4,
 "nbformat_minor": 1
}
