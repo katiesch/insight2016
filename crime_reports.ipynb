{
 "cells": [
  {
   "cell_type": "code",
   "execution_count": 1,
   "metadata": {
    "collapsed": true
   },
   "outputs": [],
   "source": [
    "import numpy as np \n",
    "import pandas as pd \n",
    "import matplotlib.pyplot as plt\n",
    "from matplotlib.patches import Polygon\n",
    "\n",
    "import shapefile as sf\n",
    "from pyproj import Proj\n",
    "from censusgeocode import CensusGeocode\n",
    "\n",
    "import datetime\n",
    "\n",
    "%matplotlib inline"
   ]
  },
  {
   "cell_type": "code",
   "execution_count": 2,
   "metadata": {
    "collapsed": false
   },
   "outputs": [],
   "source": [
    "crime_reports = pd.read_csv('ARJISPublicCrime091416.csv')"
   ]
  },
  {
   "cell_type": "code",
   "execution_count": 3,
   "metadata": {
    "collapsed": false
   },
   "outputs": [
    {
     "data": {
      "text/plain": [
       "array(['agency', 'Charge_Description_Orig', 'activityDate',\n",
       "       'BLOCK_ADDRESS', 'ZipCode', 'community'], dtype=object)"
      ]
     },
     "execution_count": 3,
     "metadata": {},
     "output_type": "execute_result"
    }
   ],
   "source": [
    "crime_reports.columns.values"
   ]
  },
  {
   "cell_type": "code",
   "execution_count": 3,
   "metadata": {
    "collapsed": false
   },
   "outputs": [],
   "source": [
    "crime_reports['BLOCK_ADDRESS'] = crime_reports['BLOCK_ADDRESS'].replace({'BLOCK': ''}, regex=True)"
   ]
  },
  {
   "cell_type": "code",
   "execution_count": 4,
   "metadata": {
    "collapsed": true
   },
   "outputs": [],
   "source": [
    "cg = CensusGeocode()"
   ]
  },
  {
   "cell_type": "code",
   "execution_count": 5,
   "metadata": {
    "collapsed": true
   },
   "outputs": [],
   "source": [
    "crime_reports['lat'] = None\n",
    "crime_reports['lon'] = None \n",
    "crime_reports['tract'] = None\n",
    "crime_reports['blockgroup'] = None \n",
    "crime_reports['block '] = None"
   ]
  },
  {
   "cell_type": "code",
   "execution_count": 6,
   "metadata": {
    "collapsed": false
   },
   "outputs": [
    {
     "name": "stderr",
     "output_type": "stream",
     "text": [
      "/Users/kschles/anaconda/lib/python2.7/site-packages/IPython/core/interactiveshell.py:2717: DtypeWarning: Columns (4) have mixed types. Specify dtype option on import or set low_memory=False.\n",
      "  interactivity=interactivity, compiler=compiler, result=result)\n"
     ]
    }
   ],
   "source": [
    "crime_reports = pd.read_csv('output_files/crime_reports_prelim.csv')"
   ]
  },
  {
   "cell_type": "code",
   "execution_count": 7,
   "metadata": {
    "collapsed": false,
    "scrolled": true
   },
   "outputs": [
    {
     "name": "stdout",
     "output_type": "stream",
     "text": [
      "66304\n",
      "58100 Time Diff:  0:00:07.402313 Finish Time:  2016-09-20 00:29:17.926646\n",
      "58200 Time Diff:  0:01:11.989915 Finish Time:  2016-09-20 00:30:29.916768\n",
      "58300 Time Diff:  0:01:01.869257 Finish Time:  2016-09-20 00:31:31.786263\n",
      "58400 Time Diff:  0:01:17.266027 Finish Time:  2016-09-20 00:32:49.052595\n",
      "58500 Time Diff:  0:01:16.159653 Finish Time:  2016-09-20 00:34:05.212498\n",
      "58600 Time Diff:  0:01:11.897122 Finish Time:  2016-09-20 00:35:17.110021\n",
      "58700 Time Diff:  0:01:15.474591 Finish Time:  2016-09-20 00:36:32.584967\n",
      "58800 Time Diff:  0:01:02.981584 Finish Time:  2016-09-20 00:37:35.566770\n",
      "58900 Time Diff:  0:01:28.841430 Finish Time:  2016-09-20 00:39:04.408404\n",
      "59000 Time Diff:  0:01:16.410283 Finish Time:  2016-09-20 00:40:20.818957\n",
      "59100 Time Diff:  0:01:27.655941 Finish Time:  2016-09-20 00:41:48.475300\n",
      "59200 Time Diff:  0:01:10.715987 Finish Time:  2016-09-20 00:42:59.191513\n",
      "59300 Time Diff:  0:01:07.888346 Finish Time:  2016-09-20 00:44:07.080166\n",
      "59400 Time Diff:  0:01:06.015013 Finish Time:  2016-09-20 00:45:13.095389\n",
      "59500 Time Diff:  0:01:10.271625 Finish Time:  2016-09-20 00:46:23.367237\n",
      "59600 Time Diff:  0:01:09.075650 Finish Time:  2016-09-20 00:47:32.443247\n",
      "59700 Time Diff:  0:01:03.272858 Finish Time:  2016-09-20 00:48:35.716352\n",
      "59800 Time Diff:  0:01:09.619094 Finish Time:  2016-09-20 00:49:45.335713\n",
      "59900 Time Diff:  0:01:17.768067 Finish Time:  2016-09-20 00:51:03.104082\n",
      "60000 Time Diff:  0:01:06.932064 Finish Time:  2016-09-20 00:52:10.036430\n",
      "60100 Time Diff:  0:01:15.846295 Finish Time:  2016-09-20 00:53:25.882921\n",
      "60200 Time Diff:  0:01:22.880765 Finish Time:  2016-09-20 00:54:48.764048\n",
      "60300 Time Diff:  0:01:18.611409 Finish Time:  2016-09-20 00:56:07.375694\n",
      "60400 Time Diff:  0:01:08.272202 Finish Time:  2016-09-20 00:57:15.648145\n",
      "60500 Time Diff:  0:01:15.086281 Finish Time:  2016-09-20 00:58:30.734639\n",
      "60600 Time Diff:  0:01:27.628743 Finish Time:  2016-09-20 00:59:58.363605\n",
      "60700 Time Diff:  0:01:22.905363 Finish Time:  2016-09-20 01:01:21.269210\n",
      "60800 Time Diff:  0:01:14.282609 Finish Time:  2016-09-20 01:02:35.552065\n",
      "60900 Time Diff:  0:01:18.417679 Finish Time:  2016-09-20 01:03:53.970030\n",
      "61000 Time Diff:  0:01:14.115934 Finish Time:  2016-09-20 01:05:08.086174\n",
      "61100 Time Diff:  0:01:23.288241 Finish Time:  2016-09-20 01:06:31.374634\n",
      "61200 Time Diff:  0:01:16.399849 Finish Time:  2016-09-20 01:07:47.774712\n",
      "61300 Time Diff:  0:01:10.452203 Finish Time:  2016-09-20 01:08:58.227120\n",
      "61400 Time Diff:  0:01:18.473636 Finish Time:  2016-09-20 01:10:16.701109\n",
      "61500 Time Diff:  0:01:24.283582 Finish Time:  2016-09-20 01:11:40.985116\n",
      "61600 Time Diff:  0:01:34.767201 Finish Time:  2016-09-20 01:13:15.752576\n",
      "61700 Time Diff:  0:01:01.943070 Finish Time:  2016-09-20 01:14:17.695868\n",
      "61800 Time Diff:  0:01:11.572807 Finish Time:  2016-09-20 01:15:29.268972\n",
      "61900 Time Diff:  0:01:26.121858 Finish Time:  2016-09-20 01:16:55.391271\n",
      "62000 Time Diff:  0:01:12.155970 Finish Time:  2016-09-20 01:18:07.547584\n",
      "62100 Time Diff:  0:01:15.376407 Finish Time:  2016-09-20 01:19:22.924283\n",
      "62200 Time Diff:  0:01:24.024666 Finish Time:  2016-09-20 01:20:46.949258\n",
      "62300 Time Diff:  0:01:01.410107 Finish Time:  2016-09-20 01:21:48.359652\n",
      "62400 Time Diff:  0:01:05.394840 Finish Time:  2016-09-20 01:22:53.754895\n",
      "62500 Time Diff:  0:01:07.398009 Finish Time:  2016-09-20 01:24:01.153125\n",
      "62600 Time Diff:  0:01:05.208804 Finish Time:  2016-09-20 01:25:06.362202\n",
      "62700 Time Diff:  0:01:01.449662 Finish Time:  2016-09-20 01:26:07.812148\n",
      "62800 Time Diff:  0:01:26.525756 Finish Time:  2016-09-20 01:27:34.341165\n",
      "62900 Time Diff:  0:01:12.916244 Finish Time:  2016-09-20 01:28:47.257706\n",
      "63000 Time Diff:  0:01:03.257569 Finish Time:  2016-09-20 01:29:50.515691\n",
      "63100 Time Diff:  0:01:15.991651 Finish Time:  2016-09-20 01:31:06.507706\n",
      "63200 Time Diff:  0:01:09.554573 Finish Time:  2016-09-20 01:32:16.062504\n",
      "63300 Time Diff:  0:01:27.530410 Finish Time:  2016-09-20 01:33:43.593181\n",
      "63400 Time Diff:  0:01:07.567180 Finish Time:  2016-09-20 01:34:51.160580\n",
      "63500 Time Diff:  0:01:36.477530 Finish Time:  2016-09-20 01:36:27.638356\n",
      "63600 Time Diff:  0:01:15.096271 Finish Time:  2016-09-20 01:37:42.734833\n",
      "63700 Time Diff:  0:01:14.165865 Finish Time:  2016-09-20 01:38:56.901094\n",
      "63800 Time Diff:  0:01:13.885025 Finish Time:  2016-09-20 01:40:10.786325\n",
      "63900 Time Diff:  0:01:22.552834 Finish Time:  2016-09-20 01:41:33.339359\n",
      "64000 Time Diff:  0:01:24.585573 Finish Time:  2016-09-20 01:42:57.925281\n",
      "64100 Time Diff:  0:01:17.474130 Finish Time:  2016-09-20 01:44:15.399754\n",
      "64200 Time Diff:  0:01:21.707767 Finish Time:  2016-09-20 01:45:37.107846\n",
      "64300 Time Diff:  0:01:35.517253 Finish Time:  2016-09-20 01:47:12.625335\n",
      "64400 Time Diff:  0:01:25.531273 Finish Time:  2016-09-20 01:48:38.156860\n",
      "64500 Time Diff:  0:01:07.511215 Finish Time:  2016-09-20 01:49:45.668495\n",
      "64600 Time Diff:  0:01:30.123660 Finish Time:  2016-09-20 01:51:15.792436\n",
      "64700 Time Diff:  0:01:09.601061 Finish Time:  2016-09-20 01:52:25.393754\n",
      "64800 Time Diff:  0:01:17.170985 Finish Time:  2016-09-20 01:53:42.565172\n",
      "64900 Time Diff:  0:01:09.695147 Finish Time:  2016-09-20 01:54:52.260592\n",
      "65000 Time Diff:  0:01:12.877025 Finish Time:  2016-09-20 01:56:05.137899\n",
      "65100 Time Diff:  0:01:07.108727 Finish Time:  2016-09-20 01:57:12.246831\n",
      "65200 Time Diff:  0:01:21.479257 Finish Time:  2016-09-20 01:58:33.726509\n",
      "65300 Time Diff:  0:01:03.657342 Finish Time:  2016-09-20 01:59:37.384076\n",
      "65400 Time Diff:  0:01:18.450621 Finish Time:  2016-09-20 02:00:55.834947\n",
      "65500 Time Diff:  0:01:15.108181 Finish Time:  2016-09-20 02:02:10.943359\n",
      "65600 Time Diff:  0:01:13.293962 Finish Time:  2016-09-20 02:03:24.237589\n",
      "65700 Time Diff:  0:01:11.672452 Finish Time:  2016-09-20 02:04:35.910311\n",
      "65800 Time Diff:  0:01:10.935652 Finish Time:  2016-09-20 02:05:46.846383\n",
      "65900 Time Diff:  0:01:09.076336 Finish Time:  2016-09-20 02:06:55.922945\n",
      "66000 Time Diff:  0:01:15.914516 Finish Time:  2016-09-20 02:08:11.837700\n",
      "66100 Time Diff:  0:01:10.734429 Finish Time:  2016-09-20 02:09:22.572429\n",
      "66200 Time Diff:  0:01:05.602555 Finish Time:  2016-09-20 02:10:28.175205\n",
      "66300 Time Diff:  0:01:10.654360 Finish Time:  2016-09-20 02:11:38.829799\n"
     ]
    }
   ],
   "source": [
    "start = datetime.datetime.now()\n",
    "\n",
    "print len(crime_reports)\n",
    "\n",
    "for i in range(58100,len(crime_reports)): \n",
    "    address1 = crime_reports.loc[i, 'BLOCK_ADDRESS']\n",
    "    n_attempts = 0\n",
    "    while True: \n",
    "        try: \n",
    "            n_attempts += 1\n",
    "            temp = cg.address(address1, city=crime_reports.loc[i, 'community'], state='CA')\n",
    "            break \n",
    "        except: \n",
    "            if n_attempts>=5: \n",
    "                print 'bad in try1 ' + address1\n",
    "                break \n",
    "    if (temp!=[]): \n",
    "        if (len(temp)>0): \n",
    "            crime_reports.loc[i, 'lon'] = temp[0]['coordinates']['x']\n",
    "            crime_reports.loc[i, 'lat'] = temp[0]['coordinates']['y']\n",
    "            \n",
    "            if ('status' not in temp[0]['geographies']['2010 Census Blocks'][0].keys()[0]): \n",
    "                crime_reports.loc[i, 'tract'] = temp[0]['geographies']['2010 Census Blocks'][0]['TRACT']\n",
    "                crime_reports.loc[i, 'block'] = temp[0]['geographies']['2010 Census Blocks'][0]['BLOCK']\n",
    "                crime_reports.loc[i, 'blockgroup'] = temp[0]['geographies']['2010 Census Blocks'][0]['BLKGRP']\n",
    "\n",
    "    if (i % 100 == 0): \n",
    "        finish = datetime.datetime.now()\n",
    "        print i, 'Time Diff: ', finish-start, 'Finish Time: ', finish\n",
    "        start = datetime.datetime.now()\n",
    "\n",
    "    if (i % 250 == 0): \n",
    "        crime_reports.to_csv('output_files/crime_reports_prelim.csv', index=False)"
   ]
  },
  {
   "cell_type": "code",
   "execution_count": 387,
   "metadata": {
    "collapsed": false
   },
   "outputs": [
    {
     "name": "stdout",
     "output_type": "stream",
     "text": [
      "21833\n",
      "1300   PARK BOULEVARD\n"
     ]
    }
   ],
   "source": [
    "print i\n",
    "print address1"
   ]
  },
  {
   "cell_type": "code",
   "execution_count": 8,
   "metadata": {
    "collapsed": true
   },
   "outputs": [],
   "source": [
    "crime_reports.to_csv('output_files/crime_reports_prelim.csv', index=False)"
   ]
  },
  {
   "cell_type": "markdown",
   "metadata": {},
   "source": [
    "Organise arrests by tract and block group"
   ]
  },
  {
   "cell_type": "code",
   "execution_count": 31,
   "metadata": {
    "collapsed": true
   },
   "outputs": [],
   "source": [
    "crime_reports['arrests_count'] = 1.0"
   ]
  },
  {
   "cell_type": "code",
   "execution_count": 28,
   "metadata": {
    "collapsed": false
   },
   "outputs": [],
   "source": [
    "crime_reports['tract'] = crime_reports['tract'].astype(float)\n",
    "crime_reports['blockgroup'] = crime_reports['blockgroup'].astype(float)"
   ]
  },
  {
   "cell_type": "code",
   "execution_count": 39,
   "metadata": {
    "collapsed": false
   },
   "outputs": [],
   "source": [
    "pa_by_bg = crime_reports[['tract', 'blockgroup', 'pa_count']].groupby(['tract','blockgroup'], as_index=False).agg('count')"
   ]
  },
  {
   "cell_type": "code",
   "execution_count": 40,
   "metadata": {
    "collapsed": true
   },
   "outputs": [],
   "source": [
    "#cpa_by_bg.to_csv('output_files/crime_reports_bg.csv', index=False)"
   ]
  },
  {
   "cell_type": "code",
   "execution_count": null,
   "metadata": {
    "collapsed": true
   },
   "outputs": [],
   "source": []
  }
 ],
 "metadata": {
  "anaconda-cloud": {},
  "kernelspec": {
   "display_name": "Python [default]",
   "language": "python",
   "name": "python2"
  },
  "language_info": {
   "codemirror_mode": {
    "name": "ipython",
    "version": 2
   },
   "file_extension": ".py",
   "mimetype": "text/x-python",
   "name": "python",
   "nbconvert_exporter": "python",
   "pygments_lexer": "ipython2",
   "version": "2.7.12"
  }
 },
 "nbformat": 4,
 "nbformat_minor": 1
}
