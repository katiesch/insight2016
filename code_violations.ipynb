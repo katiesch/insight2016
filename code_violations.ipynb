{
 "cells": [
  {
   "cell_type": "code",
   "execution_count": 1,
   "metadata": {
    "collapsed": true
   },
   "outputs": [],
   "source": [
    "import numpy as np \n",
    "import pandas as pd \n",
    "import matplotlib.pyplot as plt\n",
    "from matplotlib.patches import Polygon\n",
    "\n",
    "import shapefile as sf\n",
    "from pyproj import Proj\n",
    "from censusgeocode import CensusGeocode\n",
    "\n",
    "import datetime\n",
    "\n",
    "%matplotlib inline"
   ]
  },
  {
   "cell_type": "code",
   "execution_count": 11,
   "metadata": {
    "collapsed": true
   },
   "outputs": [],
   "source": [
    "code_violations = pd.read_csv('code_violations_records/mappedcedcases6months_complaints_datasd.csv')"
   ]
  },
  {
   "cell_type": "code",
   "execution_count": 12,
   "metadata": {
    "collapsed": false
   },
   "outputs": [
    {
     "data": {
      "text/plain": [
       "array(['APN', 'case_id', 'case_source', 'close_date', 'close_note',\n",
       "       'close_reason', 'description', 'complaint_type',\n",
       "       'complaint_type_id', 'investigator_active',\n",
       "       'investigator_email_address', 'investigator_name',\n",
       "       'investigator_phone_number', 'last_action', 'last_action_due_date',\n",
       "       'latitude', 'longitude', 'open_date', 'remedy_msg',\n",
       "       'street_address', 'workgroup'], dtype=object)"
      ]
     },
     "execution_count": 12,
     "metadata": {},
     "output_type": "execute_result"
    }
   ],
   "source": [
    "code_violations.columns.values"
   ]
  },
  {
   "cell_type": "code",
   "execution_count": 13,
   "metadata": {
    "collapsed": false
   },
   "outputs": [
    {
     "data": {
      "text/plain": [
       "5983"
      ]
     },
     "execution_count": 13,
     "metadata": {},
     "output_type": "execute_result"
    }
   ],
   "source": [
    "len(code_violations)"
   ]
  },
  {
   "cell_type": "code",
   "execution_count": 16,
   "metadata": {
    "collapsed": false
   },
   "outputs": [],
   "source": [
    "cg = CensusGeocode()"
   ]
  },
  {
   "cell_type": "code",
   "execution_count": 18,
   "metadata": {
    "collapsed": false
   },
   "outputs": [],
   "source": [
    "code_violations['block'] = None\n",
    "code_violations['tract'] = None\n",
    "code_violations['geoid'] = None\n",
    "code_violations['blockgroup'] = None"
   ]
  },
  {
   "cell_type": "code",
   "execution_count": 22,
   "metadata": {
    "collapsed": false
   },
   "outputs": [
    {
     "name": "stdout",
     "output_type": "stream",
     "text": [
      "5983\n",
      "0 0:00:01.907576\n",
      "100 0:01:54.528919\n",
      "200 0:02:18.308541\n",
      "300 0:02:24.957082\n",
      "400 0:02:58.417412\n",
      "500 0:02:31.206979\n",
      "600 0:02:03.234116\n",
      "700 0:02:56.658819\n",
      "800 0:02:50.491163\n",
      "900 0:02:32.843516\n",
      "1000 0:02:33.097257\n",
      "1100 0:02:27.172335\n",
      "1200 0:02:43.832626\n",
      "1300 0:02:35.365162\n",
      "1400 0:02:03.697580\n",
      "1500 0:02:36.586664\n",
      "1600 0:02:44.807966\n",
      "1700 0:02:27.769980\n",
      "1800 0:02:51.221879\n",
      "1900 0:02:22.618915\n",
      "2000 0:02:25.157750\n",
      "2100 0:02:11.579909\n",
      "2200 0:02:46.641649\n",
      "2300 0:02:30.722565\n",
      "2400 0:02:26.420384\n",
      "2500 0:02:38.462333\n",
      "2600 0:01:47.907124\n",
      "2700 0:01:42.165460\n",
      "2800 0:01:54.909988\n",
      "2900 0:01:58.391362\n",
      "3000 0:02:29.531169\n",
      "3100 0:02:43.906707\n",
      "3200 0:02:45.178666\n",
      "3300 0:03:35.318252\n",
      "3400 0:02:53.914088\n",
      "3500 0:02:33.283590\n",
      "3600 0:02:31.714271\n",
      "3700 0:02:29.538437\n",
      "3800 0:03:00.475451\n",
      "3900 0:02:37.114294\n",
      "4000 0:02:37.317314\n",
      "4100 0:02:44.842207\n",
      "4200 0:02:20.828974\n",
      "4300 0:02:26.335431\n",
      "4400 0:02:22.449399\n",
      "4500 0:01:52.918738\n",
      "4600 0:01:33.379216\n",
      "4700 0:01:27.662122\n",
      "4800 0:01:21.873635\n",
      "4900 0:01:46.055481\n",
      "5000 0:01:27.121457\n",
      "5100 0:01:20.497538\n",
      "5200 0:01:34.345070\n",
      "5300 0:01:43.858920\n",
      "5400 0:01:33.980772\n",
      "5500 0:01:51.293127\n",
      "5600 0:01:55.886402\n",
      "5700 0:02:02.881544\n",
      "5800 0:01:27.245098\n",
      "5900 0:01:42.059145\n"
     ]
    }
   ],
   "source": [
    "start = datetime.datetime.now()\n",
    "\n",
    "print len(code_violations)\n",
    "\n",
    "for i in range(0,len(code_violations)): \n",
    "    if ((code_violations.loc[i,'longitude']!=0.0) \n",
    "        & (np.isnan(code_violations.loc[i,'longitude'])==False)) :\n",
    "        temp1 = cg.coordinates(x=code_violations.loc[i,'longitude'], \n",
    "                              y=code_violations.loc[i, 'latitude'])\n",
    "        if (len(temp1[0]['2010 Census Blocks'])>0):\n",
    "            if ('status' not in temp1[0]['2010 Census Blocks'][0].keys()[0]): \n",
    "                temp = temp1[0]['2010 Census Blocks'][0]\n",
    "                if (temp is not None):\n",
    "                    code_violations.loc[i, 'block'] = temp['BLOCK']\n",
    "                    code_violations.loc[i, 'tract'] = temp['TRACT']\n",
    "                    code_violations.loc[i, 'geoid'] = temp['GEOID']\n",
    "                    code_violations.loc[i, 'blockgroup'] = temp['BLKGRP']\n",
    "\n",
    "                if (i % 100 == 0): \n",
    "                    finish = datetime.datetime.now()\n",
    "                    print i, finish-start\n",
    "                    start = datetime.datetime.now()\n",
    "\n"
   ]
  },
  {
   "cell_type": "code",
   "execution_count": 41,
   "metadata": {
    "collapsed": false
   },
   "outputs": [
    {
     "data": {
      "text/plain": [
       "array(['APN', 'case_id', 'case_source', 'close_date', 'close_note',\n",
       "       'close_reason', 'description', 'complaint_type',\n",
       "       'complaint_type_id', 'investigator_active',\n",
       "       'investigator_email_address', 'investigator_name',\n",
       "       'investigator_phone_number', 'last_action', 'last_action_due_date',\n",
       "       'latitude', 'longitude', 'open_date', 'remedy_msg',\n",
       "       'street_address', 'workgroup', 'block', 'tract', 'geoid',\n",
       "       'blockgroup', 'cv_count'], dtype=object)"
      ]
     },
     "execution_count": 41,
     "metadata": {},
     "output_type": "execute_result"
    }
   ],
   "source": [
    "code_violations.columns.values"
   ]
  },
  {
   "cell_type": "code",
   "execution_count": 25,
   "metadata": {
    "collapsed": false
   },
   "outputs": [],
   "source": [
    "#code_violations.to_csv('output_files/code_violations_6mo_all.csv', index=False)"
   ]
  },
  {
   "cell_type": "code",
   "execution_count": 139,
   "metadata": {
    "collapsed": true
   },
   "outputs": [],
   "source": [
    "#code_violations = pd.read_csv('output_files/code_violations_all.csv')"
   ]
  },
  {
   "cell_type": "markdown",
   "metadata": {},
   "source": [
    "Organise code violations by tract and block group"
   ]
  },
  {
   "cell_type": "code",
   "execution_count": 31,
   "metadata": {
    "collapsed": true
   },
   "outputs": [],
   "source": [
    "code_violations['cv_count'] = 1.0"
   ]
  },
  {
   "cell_type": "code",
   "execution_count": 28,
   "metadata": {
    "collapsed": false
   },
   "outputs": [],
   "source": [
    "code_violations['tract'] = code_violations['tract'].astype(float)\n",
    "code_violations['blockgroup'] = code_violations['blockgroup'].astype(float)"
   ]
  },
  {
   "cell_type": "code",
   "execution_count": 39,
   "metadata": {
    "collapsed": false
   },
   "outputs": [],
   "source": [
    "cv_by_bg = code_violations[['tract', 'blockgroup', 'cv_count']].groupby(['tract','blockgroup'], as_index=False).agg('count')"
   ]
  },
  {
   "cell_type": "code",
   "execution_count": 40,
   "metadata": {
    "collapsed": true
   },
   "outputs": [],
   "source": [
    "#cv_by_bg.to_csv('output_files/code_violations_6mo_bg.csv', index=False)"
   ]
  },
  {
   "cell_type": "code",
   "execution_count": null,
   "metadata": {
    "collapsed": true
   },
   "outputs": [],
   "source": []
  }
 ],
 "metadata": {
  "anaconda-cloud": {},
  "kernelspec": {
   "display_name": "Python [default]",
   "language": "python",
   "name": "python2"
  },
  "language_info": {
   "codemirror_mode": {
    "name": "ipython",
    "version": 2
   },
   "file_extension": ".py",
   "mimetype": "text/x-python",
   "name": "python",
   "nbconvert_exporter": "python",
   "pygments_lexer": "ipython2",
   "version": "2.7.12"
  }
 },
 "nbformat": 4,
 "nbformat_minor": 1
}
