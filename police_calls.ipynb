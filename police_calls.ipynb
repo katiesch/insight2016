{
 "cells": [
  {
   "cell_type": "code",
   "execution_count": 1,
   "metadata": {
    "collapsed": true
   },
   "outputs": [],
   "source": [
    "import numpy as np \n",
    "import pandas as pd \n",
    "import matplotlib.pyplot as plt\n",
    "from matplotlib.patches import Polygon\n",
    "\n",
    "import shapefile as sf\n",
    "from pyproj import Proj\n",
    "from censusgeocode import CensusGeocode\n",
    "\n",
    "import datetime\n",
    "\n",
    "%matplotlib inline"
   ]
  },
  {
   "cell_type": "code",
   "execution_count": 213,
   "metadata": {
    "collapsed": false
   },
   "outputs": [],
   "source": [
    "police_calls = pd.read_csv('pd_calls_for_service_2016_datasd.csv')"
   ]
  },
  {
   "cell_type": "code",
   "execution_count": 214,
   "metadata": {
    "collapsed": false
   },
   "outputs": [
    {
     "data": {
      "text/plain": [
       "array(['incident_num', 'date_time', 'day', 'stno', 'stdir1', 'street',\n",
       "       'streettype', 'stdir2', 'stname2', 'sttype2', 'call_type',\n",
       "       'disposition', 'beat', 'priority'], dtype=object)"
      ]
     },
     "execution_count": 214,
     "metadata": {},
     "output_type": "execute_result"
    }
   ],
   "source": [
    "police_calls.columns.values"
   ]
  },
  {
   "cell_type": "code",
   "execution_count": 215,
   "metadata": {
    "collapsed": false
   },
   "outputs": [],
   "source": [
    "arrest_index = np.where(police_calls['disposition'].str.contains('A')==True)[0]"
   ]
  },
  {
   "cell_type": "code",
   "execution_count": 219,
   "metadata": {
    "collapsed": false
   },
   "outputs": [],
   "source": [
    "police_arrests = police_calls.loc[arrest_index]\n",
    "police_arrests.reset_index(drop=True, inplace=True)"
   ]
  },
  {
   "cell_type": "code",
   "execution_count": 220,
   "metadata": {
    "collapsed": false
   },
   "outputs": [],
   "source": [
    "police_arrests.loc[np.where(pd.isnull(police_arrests['stdir1'])==True)[0], 'stdir1'] = ''\n",
    "police_arrests.loc[np.where(pd.isnull(police_arrests['streettype'])==True)[0], 'streettype'] = ''"
   ]
  },
  {
   "cell_type": "code",
   "execution_count": 221,
   "metadata": {
    "collapsed": false
   },
   "outputs": [],
   "source": [
    "street_fix_index = np.where(police_arrests['street'].str.startswith('0')==True)[0]\n",
    "police_arrests.loc[street_fix_index, 'street'] = police_arrests.loc[street_fix_index, 'street'].replace({'0': ''}, regex=True)"
   ]
  },
  {
   "cell_type": "code",
   "execution_count": 110,
   "metadata": {
    "collapsed": true
   },
   "outputs": [],
   "source": [
    "cg = CensusGeocode()"
   ]
  },
  {
   "cell_type": "code",
   "execution_count": 222,
   "metadata": {
    "collapsed": true
   },
   "outputs": [],
   "source": [
    "police_arrests['lat'] = None\n",
    "police_arrests['lon'] = None \n",
    "police_arrests['tract'] = None\n",
    "police_arrests['blockgroup'] = None \n",
    "police_arrests['block '] = None"
   ]
  },
  {
   "cell_type": "code",
   "execution_count": null,
   "metadata": {
    "collapsed": false
   },
   "outputs": [
    {
     "name": "stdout",
     "output_type": "stream",
     "text": [
      "44439\n",
      "0 Time Diff:  0:00:01.548325 Finish Time:  2016-09-17 15:24:15.734926\n"
     ]
    }
   ],
   "source": [
    "start = datetime.datetime.now()\n",
    "\n",
    "print len(police_arrests)\n",
    "\n",
    "for i in range(0,len(police_arrests)): \n",
    "    address1 = (police_arrests.loc[i, 'stno'].astype(str) + ' ' + police_arrests.loc[i, 'stdir1'] \n",
    "                + ' ' + police_arrests.loc[i, 'street'] + ' ' \n",
    "                + police_arrests.loc[i, 'streettype'])\n",
    "    temp = cg.address(address1, city='San Diego', state='CA')\n",
    "    if (temp!=[]): \n",
    "        if (len(temp)>0): \n",
    "            police_arrests.loc[i, 'lon'] = temp[0]['coordinates']['x']\n",
    "            police_arrests.loc[i, 'lat'] = temp[0]['coordinates']['y']\n",
    "\n",
    "            police_arrests.loc[i, 'tract'] = temp[0]['geographies']['2010 Census Blocks'][0]['TRACT']\n",
    "            police_arrests.loc[i, 'block'] = temp[0]['geographies']['2010 Census Blocks'][0]['BLOCK']\n",
    "            police_arrests.loc[i, 'blockgroup'] = temp[0]['geographies']['2010 Census Blocks'][0]['BLKGRP']\n",
    "\n",
    "        if (i % 100 == 0): \n",
    "            finish = datetime.datetime.now()\n",
    "            print i, 'Time Diff: ', finish-start, 'Finish Time: ', finish\n",
    "            start = datetime.datetime.now()\n",
    "\n",
    "        if (i % 500 == 0): \n",
    "            police_arrests.to_csv('output_files/police_arrests_prelim.csv', index=False)"
   ]
  },
  {
   "cell_type": "code",
   "execution_count": 171,
   "metadata": {
    "collapsed": false
   },
   "outputs": [
    {
     "name": "stdout",
     "output_type": "stream",
     "text": [
      "752\n",
      "1000  02ND AV\n"
     ]
    }
   ],
   "source": [
    "print i\n",
    "print address1"
   ]
  },
  {
   "cell_type": "code",
   "execution_count": 172,
   "metadata": {
    "collapsed": false
   },
   "outputs": [],
   "source": [
    "temp = cg.address(address1, city='San Diego', state='CA')"
   ]
  },
  {
   "cell_type": "code",
   "execution_count": 173,
   "metadata": {
    "collapsed": false
   },
   "outputs": [],
   "source": [
    "if (temp!=[]): \n",
    "    print 'hello'"
   ]
  },
  {
   "cell_type": "code",
   "execution_count": 175,
   "metadata": {
    "collapsed": false
   },
   "outputs": [
    {
     "data": {
      "text/plain": [
       "1"
      ]
     },
     "execution_count": 175,
     "metadata": {},
     "output_type": "execute_result"
    }
   ],
   "source": [
    "temp = cg.address('1000  2ND AV', city='San Diego', state='CA')\n",
    "len(temp)"
   ]
  },
  {
   "cell_type": "markdown",
   "metadata": {},
   "source": [
    "Organise arrests by tract and block group"
   ]
  },
  {
   "cell_type": "code",
   "execution_count": 31,
   "metadata": {
    "collapsed": true
   },
   "outputs": [],
   "source": [
    "police_arrests['arrests_count'] = 1.0"
   ]
  },
  {
   "cell_type": "code",
   "execution_count": 28,
   "metadata": {
    "collapsed": false
   },
   "outputs": [],
   "source": [
    "police_arrests['tract'] = police_arrests['tract'].astype(float)\n",
    "police_arrests['blockgroup'] = police_arrests['blockgroup'].astype(float)"
   ]
  },
  {
   "cell_type": "code",
   "execution_count": 39,
   "metadata": {
    "collapsed": false
   },
   "outputs": [],
   "source": [
    "pa_by_bg = police_arrests[['tract', 'blockgroup', 'pa_count']].groupby(['tract','blockgroup'], as_index=False).agg('count')"
   ]
  },
  {
   "cell_type": "code",
   "execution_count": 40,
   "metadata": {
    "collapsed": true
   },
   "outputs": [],
   "source": [
    "#cpa_by_bg.to_csv('output_files/police_arrests_bg.csv', index=False)"
   ]
  },
  {
   "cell_type": "code",
   "execution_count": null,
   "metadata": {
    "collapsed": true
   },
   "outputs": [],
   "source": []
  }
 ],
 "metadata": {
  "anaconda-cloud": {},
  "kernelspec": {
   "display_name": "Python [default]",
   "language": "python",
   "name": "python2"
  },
  "language_info": {
   "codemirror_mode": {
    "name": "ipython",
    "version": 2
   },
   "file_extension": ".py",
   "mimetype": "text/x-python",
   "name": "python",
   "nbconvert_exporter": "python",
   "pygments_lexer": "ipython2",
   "version": "2.7.12"
  }
 },
 "nbformat": 4,
 "nbformat_minor": 1
}
