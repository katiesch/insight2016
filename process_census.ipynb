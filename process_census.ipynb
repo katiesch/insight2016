{
 "cells": [
  {
   "cell_type": "code",
   "execution_count": 3,
   "metadata": {
    "collapsed": true
   },
   "outputs": [],
   "source": [
    "%matplotlib inline \n",
    "\n",
    "import numpy as np\n",
    "import matplotlib.pyplot as plt\n",
    "import pandas as pd\n",
    "import os\n",
    "import glob\n",
    "import sklearn\n",
    "import datetime\n",
    "import array \n",
    "import math\n",
    "\n",
    "import shapefile as sf\n",
    "from matplotlib.patches import Polygon\n",
    "import mpld3\n",
    "\n",
    "from pyproj import Proj\n",
    "from censusgeocode import CensusGeocode\n",
    "from matplotlib.collections import PatchCollection"
   ]
  },
  {
   "cell_type": "code",
   "execution_count": 9,
   "metadata": {
    "collapsed": false
   },
   "outputs": [],
   "source": [
    "filenames='aff/block_groups/*with_ann.csv'\n",
    "aff_files=glob.glob(filenames)"
   ]
  },
  {
   "cell_type": "code",
   "execution_count": 11,
   "metadata": {
    "collapsed": true
   },
   "outputs": [],
   "source": [
    "additional_filenames =['aff/block_groups/language/ACS_14_5YR_B16002_with_ann.csv']"
   ]
  },
  {
   "cell_type": "code",
   "execution_count": 22,
   "metadata": {
    "collapsed": false
   },
   "outputs": [
    {
     "data": {
      "text/plain": [
       "35"
      ]
     },
     "execution_count": 22,
     "metadata": {},
     "output_type": "execute_result"
    }
   ],
   "source": [
    "file_list = aff_files + additional_filenames\n",
    "len(file_list)"
   ]
  },
  {
   "cell_type": "code",
   "execution_count": 23,
   "metadata": {
    "collapsed": true
   },
   "outputs": [],
   "source": [
    "#age = [0, 1]\n",
    "#totals = [2]\n",
    "#race = [10]\n",
    "#income = [16, 17, 18, 19]\n",
    "#propvals = [20, 24, 25, 28]\n",
    "#geography = [33]\n",
    "\n",
    "all_of_interest = [33, 0, 1, 4, 12, 18, 19, 20, 21, 22, 26, 27, 28, 31, 2, 3, 34]"
   ]
  },
  {
   "cell_type": "code",
   "execution_count": 24,
   "metadata": {
    "collapsed": true
   },
   "outputs": [],
   "source": [
    "census = pd.DataFrame()"
   ]
  },
  {
   "cell_type": "code",
   "execution_count": 26,
   "metadata": {
    "collapsed": false
   },
   "outputs": [
    {
     "name": "stdout",
     "output_type": "stream",
     "text": [
      "33 33 33\n",
      "0 0 0\n",
      "1 1 1\n",
      "4 4 4\n",
      "12 12 12\n",
      "18 18 18\n",
      "19 19 19\n",
      "20 20 20\n",
      "21 21 21\n",
      "22 22 22\n",
      "26 26 26\n",
      "27 27 27\n",
      "28 28 28\n",
      "31 31 31\n",
      "2 2 2\n",
      "3 3 3\n",
      "34 34 34\n"
     ]
    }
   ],
   "source": [
    "for i in all_of_interest: \n",
    "    temp = pd.read_csv(file_list[i], header=1, low_memory=False)\n",
    "    print i, i, i \n",
    "    if (i==33): \n",
    "        census = temp.copy()\n",
    "    if (i!=33): \n",
    "        if (i==2): \n",
    "            temp.rename(columns={'Estimate; Median age -- - Total:': 'median_age_white'}, inplace=True)\n",
    "        if (i==3): \n",
    "            temp.rename(columns={'Estimate; Median age -- - Total:': 'median_age_latin'}, inplace=True)\n",
    "\n",
    "        combo = pd.merge(census, temp, on='Id', how='left', suffixes=('', '_' + str(i)))\n",
    "        census = combo.copy()\n",
    "        census.reset_index(drop=True)"
   ]
  },
  {
   "cell_type": "code",
   "execution_count": 27,
   "metadata": {
    "collapsed": true
   },
   "outputs": [],
   "source": [
    "census.rename(columns={'GEOGRAPHIC AREA CODES - Census Tract': 'tract', \n",
    "                               'GEOGRAPHIC AREA CODES - Block Group': 'blockgroup'}, inplace=True)"
   ]
  },
  {
   "cell_type": "code",
   "execution_count": 28,
   "metadata": {
    "collapsed": true
   },
   "outputs": [],
   "source": [
    "# trim out the one with no blockgroup at the end...\n",
    "census = census.loc[:1793]"
   ]
  },
  {
   "cell_type": "code",
   "execution_count": 29,
   "metadata": {
    "collapsed": true
   },
   "outputs": [],
   "source": [
    "# Racial Breakdown: \n",
    "race_bkdwn = census[['Estimate; Not Hispanic or Latino: - White alone',\n",
    "                             'Estimate; Not Hispanic or Latino: - Black or African American alone',\n",
    "                             'Estimate; Not Hispanic or Latino: - American Indian and Alaska Native alone',\n",
    "                             'Estimate; Not Hispanic or Latino: - Asian alone',\n",
    "                             'Estimate; Not Hispanic or Latino: - Native Hawaiian and Other Pacific Islander alone',\n",
    "                             'Estimate; Not Hispanic or Latino: - Some other race alone',\n",
    "                             'Estimate; Not Hispanic or Latino: - Two or more races:',\n",
    "                             'Estimate; Hispanic or Latino:']].copy()\n",
    "\n",
    "race_sum = race_bkdwn.sum(axis=1)\n",
    "\n",
    "census[['Estimate; Not Hispanic or Latino: - White alone',\n",
    "                             'Estimate; Not Hispanic or Latino: - Black or African American alone',\n",
    "                             'Estimate; Not Hispanic or Latino: - American Indian and Alaska Native alone',\n",
    "                             'Estimate; Not Hispanic or Latino: - Asian alone',\n",
    "                             'Estimate; Not Hispanic or Latino: - Native Hawaiian and Other Pacific Islander alone',\n",
    "                             'Estimate; Not Hispanic or Latino: - Some other race alone',\n",
    "                             'Estimate; Not Hispanic or Latino: - Two or more races:',\n",
    "                             'Estimate; Hispanic or Latino:']] = race_bkdwn.div(race_sum, axis=0)"
   ]
  },
  {
   "cell_type": "code",
   "execution_count": 30,
   "metadata": {
    "collapsed": true
   },
   "outputs": [],
   "source": [
    "# Age Breakdown (Male): \n",
    "age_bkdwn = census[[\n",
    "       'Estimate; Male: - Under 5 years', 'Estimate; Male: - 5 to 9 years',\n",
    "       'Estimate; Male: - 10 to 14 years',\n",
    "       'Estimate; Male: - 15 to 17 years',\n",
    "       'Estimate; Male: - 18 and 19 years', 'Estimate; Male: - 20 years',\n",
    "       'Estimate; Male: - 21 years', 'Estimate; Male: - 22 to 24 years',\n",
    "       'Estimate; Male: - 25 to 29 years',\n",
    "       'Estimate; Male: - 30 to 34 years',\n",
    "       'Estimate; Male: - 35 to 39 years',\n",
    "       'Estimate; Male: - 40 to 44 years',\n",
    "       'Estimate; Male: - 45 to 49 years',\n",
    "       'Estimate; Male: - 50 to 54 years',\n",
    "       'Estimate; Male: - 55 to 59 years',\n",
    "       'Estimate; Male: - 60 and 61 years',\n",
    "       'Estimate; Male: - 62 to 64 years',\n",
    "       'Estimate; Male: - 65 and 66 years',\n",
    "       'Estimate; Male: - 67 to 69 years',\n",
    "       'Estimate; Male: - 70 to 74 years',\n",
    "       'Estimate; Male: - 75 to 79 years',\n",
    "       'Estimate; Male: - 80 to 84 years',\n",
    "       'Estimate; Male: - 85 years and over']].copy()\n",
    "\n",
    "age_sum = age_bkdwn.sum(axis=1)\n",
    "\n",
    "census[[\n",
    "       'Estimate; Male: - Under 5 years', 'Estimate; Male: - 5 to 9 years',\n",
    "       'Estimate; Male: - 10 to 14 years',\n",
    "       'Estimate; Male: - 15 to 17 years',\n",
    "       'Estimate; Male: - 18 and 19 years', 'Estimate; Male: - 20 years',\n",
    "       'Estimate; Male: - 21 years', 'Estimate; Male: - 22 to 24 years',\n",
    "       'Estimate; Male: - 25 to 29 years',\n",
    "       'Estimate; Male: - 30 to 34 years',\n",
    "       'Estimate; Male: - 35 to 39 years',\n",
    "       'Estimate; Male: - 40 to 44 years',\n",
    "       'Estimate; Male: - 45 to 49 years',\n",
    "       'Estimate; Male: - 50 to 54 years',\n",
    "       'Estimate; Male: - 55 to 59 years',\n",
    "       'Estimate; Male: - 60 and 61 years',\n",
    "       'Estimate; Male: - 62 to 64 years',\n",
    "       'Estimate; Male: - 65 and 66 years',\n",
    "       'Estimate; Male: - 67 to 69 years',\n",
    "       'Estimate; Male: - 70 to 74 years',\n",
    "       'Estimate; Male: - 75 to 79 years',\n",
    "       'Estimate; Male: - 80 to 84 years',\n",
    "       'Estimate; Male: - 85 years and over']] = age_bkdwn.div(age_sum, axis=0)"
   ]
  },
  {
   "cell_type": "code",
   "execution_count": 31,
   "metadata": {
    "collapsed": true
   },
   "outputs": [],
   "source": [
    "# Age Breakdown (Female): \n",
    "age_bkdwn = census[[\n",
    "       'Estimate; Female: - Under 5 years', 'Estimate; Female: - 5 to 9 years',\n",
    "       'Estimate; Female: - 10 to 14 years',\n",
    "       'Estimate; Female: - 15 to 17 years',\n",
    "       'Estimate; Female: - 18 and 19 years', 'Estimate; Female: - 20 years',\n",
    "       'Estimate; Female: - 21 years', 'Estimate; Female: - 22 to 24 years',\n",
    "       'Estimate; Female: - 25 to 29 years',\n",
    "       'Estimate; Female: - 30 to 34 years',\n",
    "       'Estimate; Female: - 35 to 39 years',\n",
    "       'Estimate; Female: - 40 to 44 years',\n",
    "       'Estimate; Female: - 45 to 49 years',\n",
    "       'Estimate; Female: - 50 to 54 years',\n",
    "       'Estimate; Female: - 55 to 59 years',\n",
    "       'Estimate; Female: - 60 and 61 years',\n",
    "       'Estimate; Female: - 62 to 64 years',\n",
    "       'Estimate; Female: - 65 and 66 years',\n",
    "       'Estimate; Female: - 67 to 69 years',\n",
    "       'Estimate; Female: - 70 to 74 years',\n",
    "       'Estimate; Female: - 75 to 79 years',\n",
    "       'Estimate; Female: - 80 to 84 years',\n",
    "       'Estimate; Female: - 85 years and over']].copy()\n",
    "\n",
    "age_sum = age_bkdwn.sum(axis=1)\n",
    "\n",
    "census[[\n",
    "       'Estimate; Female: - Under 5 years', 'Estimate; Female: - 5 to 9 years',\n",
    "       'Estimate; Female: - 10 to 14 years',\n",
    "       'Estimate; Female: - 15 to 17 years',\n",
    "       'Estimate; Female: - 18 and 19 years', 'Estimate; Female: - 20 years',\n",
    "       'Estimate; Female: - 21 years', 'Estimate; Female: - 22 to 24 years',\n",
    "       'Estimate; Female: - 25 to 29 years',\n",
    "       'Estimate; Female: - 30 to 34 years',\n",
    "       'Estimate; Female: - 35 to 39 years',\n",
    "       'Estimate; Female: - 40 to 44 years',\n",
    "       'Estimate; Female: - 45 to 49 years',\n",
    "       'Estimate; Female: - 50 to 54 years',\n",
    "       'Estimate; Female: - 55 to 59 years',\n",
    "       'Estimate; Female: - 60 and 61 years',\n",
    "       'Estimate; Female: - 62 to 64 years',\n",
    "       'Estimate; Female: - 65 and 66 years',\n",
    "       'Estimate; Female: - 67 to 69 years',\n",
    "       'Estimate; Female: - 70 to 74 years',\n",
    "       'Estimate; Female: - 75 to 79 years',\n",
    "       'Estimate; Female: - 80 to 84 years',\n",
    "       'Estimate; Female: - 85 years and over']] = age_bkdwn.div(age_sum, axis=0)"
   ]
  },
  {
   "cell_type": "code",
   "execution_count": 32,
   "metadata": {
    "collapsed": true
   },
   "outputs": [],
   "source": [
    "income_bkdwn=census[['Estimate; Total: - Less than $10,000',\n",
    "       'Estimate; Total: - $10,000 to $14,999',\n",
    "       'Estimate; Total: - $15,000 to $19,999',\n",
    "       'Estimate; Total: - $20,000 to $24,999',\n",
    "       'Estimate; Total: - $25,000 to $29,999',\n",
    "       'Estimate; Total: - $30,000 to $34,999',\n",
    "       'Estimate; Total: - $35,000 to $39,999',\n",
    "       'Estimate; Total: - $40,000 to $44,999',\n",
    "       'Estimate; Total: - $45,000 to $49,999',\n",
    "       'Estimate; Total: - $50,000 to $59,999',\n",
    "       'Estimate; Total: - $60,000 to $74,999',\n",
    "       'Estimate; Total: - $75,000 to $99,999',\n",
    "       'Estimate; Total: - $100,000 to $124,999',\n",
    "       'Estimate; Total: - $125,000 to $149,999',\n",
    "       'Estimate; Total: - $150,000 to $199,999',\n",
    "       'Estimate; Total: - $200,000 or more']].copy()\n",
    "\n",
    "income_sum = income_bkdwn.sum(axis=1)\n",
    "\n",
    "census[['Estimate; Total: - Less than $10,000',\n",
    "       'Estimate; Total: - $10,000 to $14,999',\n",
    "       'Estimate; Total: - $15,000 to $19,999',\n",
    "       'Estimate; Total: - $20,000 to $24,999',\n",
    "       'Estimate; Total: - $25,000 to $29,999',\n",
    "       'Estimate; Total: - $30,000 to $34,999',\n",
    "       'Estimate; Total: - $35,000 to $39,999',\n",
    "       'Estimate; Total: - $40,000 to $44,999',\n",
    "       'Estimate; Total: - $45,000 to $49,999',\n",
    "       'Estimate; Total: - $50,000 to $59,999',\n",
    "       'Estimate; Total: - $60,000 to $74,999',\n",
    "       'Estimate; Total: - $75,000 to $99,999',\n",
    "       'Estimate; Total: - $100,000 to $124,999',\n",
    "       'Estimate; Total: - $125,000 to $149,999',\n",
    "       'Estimate; Total: - $150,000 to $199,999',\n",
    "       'Estimate; Total: - $200,000 or more'\n",
    "       ]] = income_bkdwn.div(income_sum, axis=0)"
   ]
  },
  {
   "cell_type": "code",
   "execution_count": 33,
   "metadata": {
    "collapsed": true
   },
   "outputs": [],
   "source": [
    "rent_bkdwn=census[['Estimate; With cash rent: - Less than $100',\n",
    "       'Estimate; With cash rent: - $100 to $149',\n",
    "       'Estimate; With cash rent: - $150 to $199',\n",
    "       'Estimate; With cash rent: - $200 to $249',\n",
    "       'Estimate; With cash rent: - $250 to $299',\n",
    "       'Estimate; With cash rent: - $300 to $349',\n",
    "       'Estimate; With cash rent: - $350 to $399',\n",
    "       'Estimate; With cash rent: - $400 to $449',\n",
    "       'Estimate; With cash rent: - $450 to $499',\n",
    "       'Estimate; With cash rent: - $500 to $549',\n",
    "       'Estimate; With cash rent: - $550 to $599',\n",
    "       'Estimate; With cash rent: - $600 to $649',\n",
    "       'Estimate; With cash rent: - $650 to $699',\n",
    "       'Estimate; With cash rent: - $700 to $749',\n",
    "       'Estimate; With cash rent: - $750 to $799',\n",
    "       'Estimate; With cash rent: - $800 to $899',\n",
    "       'Estimate; With cash rent: - $900 to $999',\n",
    "       'Estimate; With cash rent: - $1,000 to $1,249',\n",
    "       'Estimate; With cash rent: - $1,250 to $1,499',\n",
    "       'Estimate; With cash rent: - $1,500 to $1,999',\n",
    "       'Estimate; With cash rent: - $2,000 or more']].copy()\n",
    "\n",
    "rent_sum = rent_bkdwn.sum(axis=1)\n",
    "\n",
    "census[['Estimate; With cash rent: - Less than $100',\n",
    "       'Estimate; With cash rent: - $100 to $149',\n",
    "       'Estimate; With cash rent: - $150 to $199',\n",
    "       'Estimate; With cash rent: - $200 to $249',\n",
    "       'Estimate; With cash rent: - $250 to $299',\n",
    "       'Estimate; With cash rent: - $300 to $349',\n",
    "       'Estimate; With cash rent: - $350 to $399',\n",
    "       'Estimate; With cash rent: - $400 to $449',\n",
    "       'Estimate; With cash rent: - $450 to $499',\n",
    "       'Estimate; With cash rent: - $500 to $549',\n",
    "       'Estimate; With cash rent: - $550 to $599',\n",
    "       'Estimate; With cash rent: - $600 to $649',\n",
    "       'Estimate; With cash rent: - $650 to $699',\n",
    "       'Estimate; With cash rent: - $700 to $749',\n",
    "       'Estimate; With cash rent: - $750 to $799',\n",
    "       'Estimate; With cash rent: - $800 to $899',\n",
    "       'Estimate; With cash rent: - $900 to $999',\n",
    "       'Estimate; With cash rent: - $1,000 to $1,249',\n",
    "       'Estimate; With cash rent: - $1,250 to $1,499',\n",
    "       'Estimate; With cash rent: - $1,500 to $1,999',\n",
    "       'Estimate; With cash rent: - $2,000 or more']] = rent_bkdwn.div(rent_sum, axis=0)"
   ]
  },
  {
   "cell_type": "code",
   "execution_count": 34,
   "metadata": {
    "collapsed": true
   },
   "outputs": [],
   "source": [
    "pa_sum = census[['Estimate; Total: - With public assistance income', 'Estimate; Total: - No public assistance income']].sum(axis=1)\n",
    "census[['Estimate; Total: - With public assistance income', 'Estimate; Total: - No public assistance income']] = census[['Estimate; Total: - With public assistance income', 'Estimate; Total: - No public assistance income']].div(pa_sum, axis=0)\n",
    "\n",
    "occ_sum = census[['Estimate; Total: - Owner occupied','Estimate; Total: - Renter occupied']].sum(axis=1)\n",
    "census[['Estimate; Total: - Owner occupied','Estimate; Total: - Renter occupied']] = census[['Estimate; Total: - Owner occupied','Estimate; Total: - Renter occupied']].div(occ_sum, axis=0)"
   ]
  },
  {
   "cell_type": "code",
   "execution_count": 35,
   "metadata": {
    "collapsed": true
   },
   "outputs": [],
   "source": [
    "census.drop('Estimate; Not Hispanic or Latino: - Two or more races: - Two races including Some other race',1, inplace=True)\n",
    "census.drop('Estimate; Not Hispanic or Latino: - Two or more races: - Two races excluding Some other race, and three or more races', 1, inplace=True)"
   ]
  },
  {
   "cell_type": "code",
   "execution_count": 36,
   "metadata": {
    "collapsed": true
   },
   "outputs": [],
   "source": [
    "# Age ranges (Male): \n",
    "census['male_5_17'] = census[['Estimate; Male: - Under 5 years',\n",
    "                                              'Estimate; Male: - 5 to 9 years',\n",
    "                                              'Estimate; Male: - 10 to 14 years',\n",
    "                                              'Estimate; Male: - 15 to 17 years']].sum(axis=1)\n",
    "census['male_18_29'] = census[['Estimate; Male: - 18 and 19 years', \n",
    "                                               'Estimate; Male: - 20 years',\n",
    "                                               'Estimate; Male: - 21 years', \n",
    "                                               'Estimate; Male: - 22 to 24 years',\n",
    "                                               'Estimate; Male: - 25 to 29 years']].sum(axis=1)\n",
    "census['male_30_60'] = census[['Estimate; Male: - 30 to 34 years',\n",
    "                                               'Estimate; Male: - 35 to 39 years',\n",
    "                                               'Estimate; Male: - 40 to 44 years',\n",
    "                                               'Estimate; Male: - 45 to 49 years',\n",
    "                                               'Estimate; Male: - 50 to 54 years',\n",
    "                                               'Estimate; Male: - 55 to 59 years']].sum(axis=1)\n",
    "census['male_61plus'] = census[['Estimate; Male: - 60 and 61 years',\n",
    "                                                'Estimate; Male: - 62 to 64 years',\n",
    "                                                'Estimate; Male: - 65 and 66 years',\n",
    "                                                'Estimate; Male: - 67 to 69 years',\n",
    "                                                'Estimate; Male: - 70 to 74 years',\n",
    "                                                'Estimate; Male: - 75 to 79 years',\n",
    "                                                'Estimate; Male: - 80 to 84 years',\n",
    "                                                'Estimate; Male: - 85 years and over']].sum(axis=1)"
   ]
  },
  {
   "cell_type": "code",
   "execution_count": 37,
   "metadata": {
    "collapsed": true
   },
   "outputs": [],
   "source": [
    "# Age ranges (Female): \n",
    "census['female_5_17'] = census[['Estimate; Female: - Under 5 years',\n",
    "                                              'Estimate; Female: - 5 to 9 years',\n",
    "                                              'Estimate; Female: - 10 to 14 years',\n",
    "                                              'Estimate; Female: - 15 to 17 years']].sum(axis=1)\n",
    "census['female_18_29'] = census[['Estimate; Female: - 18 and 19 years', \n",
    "                                               'Estimate; Female: - 20 years',\n",
    "                                               'Estimate; Female: - 21 years', \n",
    "                                               'Estimate; Female: - 22 to 24 years',\n",
    "                                               'Estimate; Female: - 25 to 29 years']].sum(axis=1)\n",
    "census['female_30_60'] = census[['Estimate; Female: - 30 to 34 years',\n",
    "                                               'Estimate; Female: - 35 to 39 years',\n",
    "                                               'Estimate; Female: - 40 to 44 years',\n",
    "                                               'Estimate; Female: - 45 to 49 years',\n",
    "                                               'Estimate; Female: - 50 to 54 years',\n",
    "                                               'Estimate; Female: - 55 to 59 years']].sum(axis=1)\n",
    "census['female_61plus'] = census[['Estimate; Female: - 60 and 61 years',\n",
    "                                                'Estimate; Female: - 62 to 64 years',\n",
    "                                                'Estimate; Female: - 65 and 66 years',\n",
    "                                                'Estimate; Female: - 67 to 69 years',\n",
    "                                                'Estimate; Female: - 70 to 74 years',\n",
    "                                                'Estimate; Female: - 75 to 79 years',\n",
    "                                                'Estimate; Female: - 80 to 84 years',\n",
    "                                                'Estimate; Female: - 85 years and over']].sum(axis=1)"
   ]
  },
  {
   "cell_type": "code",
   "execution_count": 38,
   "metadata": {
    "collapsed": true
   },
   "outputs": [],
   "source": [
    "# Rent ranges \n",
    "census['rent_0_500'] = census[['Estimate; With cash rent: - Less than $100',\n",
    "                                               'Estimate; With cash rent: - $100 to $149',\n",
    "                                               'Estimate; With cash rent: - $150 to $199',\n",
    "                                               'Estimate; With cash rent: - $200 to $249',\n",
    "                                               'Estimate; With cash rent: - $250 to $299',\n",
    "                                               'Estimate; With cash rent: - $300 to $349',\n",
    "                                               'Estimate; With cash rent: - $350 to $399',\n",
    "                                               'Estimate; With cash rent: - $400 to $449',\n",
    "                                               'Estimate; With cash rent: - $450 to $499']].sum(axis=1)\n",
    "census['rent_501_1000'] = census[['Estimate; With cash rent: - $500 to $549',\n",
    "       'Estimate; With cash rent: - $550 to $599',\n",
    "       'Estimate; With cash rent: - $600 to $649',\n",
    "       'Estimate; With cash rent: - $650 to $699',\n",
    "       'Estimate; With cash rent: - $700 to $749',\n",
    "       'Estimate; With cash rent: - $750 to $799',\n",
    "       'Estimate; With cash rent: - $800 to $899',\n",
    "       'Estimate; With cash rent: - $900 to $999']].sum(axis=1)\n",
    "census['rent_1000plus'] = census[['Estimate; With cash rent: - $1,000 to $1,249',\n",
    "       'Estimate; With cash rent: - $1,250 to $1,499',\n",
    "       'Estimate; With cash rent: - $1,500 to $1,999',\n",
    "       'Estimate; With cash rent: - $2,000 or more']].sum(axis=1)"
   ]
  },
  {
   "cell_type": "code",
   "execution_count": 39,
   "metadata": {
    "collapsed": true
   },
   "outputs": [],
   "source": [
    "census['income_0_25'] = census[['Estimate; Total: - Less than $10,000',\n",
    "       'Estimate; Total: - $10,000 to $14,999',\n",
    "       'Estimate; Total: - $15,000 to $19,999',\n",
    "       'Estimate; Total: - $20,000 to $24,999']].sum(axis=1)\n",
    "census['income_25_50'] = census[['Estimate; Total: - $25,000 to $29,999',\n",
    "       'Estimate; Total: - $30,000 to $34,999',\n",
    "       'Estimate; Total: - $35,000 to $39,999',\n",
    "       'Estimate; Total: - $40,000 to $44,999',\n",
    "       'Estimate; Total: - $45,000 to $49,999']].sum(axis=1)\n",
    "census['income_50_100'] = census[['Estimate; Total: - $50,000 to $59,999',\n",
    "       'Estimate; Total: - $60,000 to $74,999',\n",
    "       'Estimate; Total: - $75,000 to $99,999']].sum(axis=1)\n",
    "census['income_100_150'] = census[['Estimate; Total: - $100,000 to $124,999',\n",
    "       'Estimate; Total: - $125,000 to $149,999']].sum(axis=1)\n",
    "census['income_150plus'] = census[['Estimate; Total: - $150,000 to $199,999',\n",
    "       'Estimate; Total: - $200,000 or more']].sum(axis=1)"
   ]
  },
  {
   "cell_type": "code",
   "execution_count": 40,
   "metadata": {
    "collapsed": true
   },
   "outputs": [],
   "source": [
    "census.rename(columns={'Estimate; Not Hispanic or Latino: - White alone': 'white_per', \n",
    "                               'Estimate; Not Hispanic or Latino: - Black or African American alone': 'baa_per', \n",
    "                               'Estimate; Not Hispanic or Latino: - American Indian and Alaska Native alone': 'aian_per', \n",
    "                               'Estimate; Not Hispanic or Latino: - Asian alone': 'asian_per', \n",
    "                               'Estimate; Not Hispanic or Latino: - Native Hawaiian and Other Pacific Islander alone': 'pi_per', \n",
    "                               'Estimate; Not Hispanic or Latino: - Some other race alone': 'other_per', \n",
    "                               'Estimate; Not Hispanic or Latino: - Two or more races:': 'tp_per', \n",
    "                               'Estimate; Hispanic or Latino:': 'latin_per'}, inplace=True)\n",
    "\n",
    "census.rename(columns={'Estimate; Total: - With public assistance income': 'publica_per', \n",
    "                               'Estimate; Total: - Owner occupied': 'ownerocc_per'}, inplace=True)\n",
    "\n"
   ]
  },
  {
   "cell_type": "code",
   "execution_count": 41,
   "metadata": {
    "collapsed": true
   },
   "outputs": [],
   "source": [
    "census.rename(columns={'Estimate; Median household income in the past 12 months (in 2014 Inflation-adjusted dollars)': 'median_house_income', \n",
    "                       'Estimate; Median year structure built': 'median_structure_year', \n",
    "                       'Estimate; Median value (dollars)': 'median_home_value', \n",
    "                       'Estimate; Median contract rent': 'median_contract_rent'}, inplace=True)"
   ]
  },
  {
   "cell_type": "code",
   "execution_count": 42,
   "metadata": {
    "collapsed": true
   },
   "outputs": [],
   "source": [
    "census['median_house_income'].replace({'-': '-1'}, regex=True, inplace=True) \n",
    "census['median_house_income'].replace({'\\+': ''}, regex=True, inplace=True) \n",
    "census['median_house_income'].replace({',': ''}, regex=True, inplace=True) "
   ]
  },
  {
   "cell_type": "code",
   "execution_count": 48,
   "metadata": {
    "collapsed": true
   },
   "outputs": [],
   "source": [
    "census['median_home_value'].replace({'-': '-1'}, regex=True, inplace=True) \n",
    "census['median_home_value'].replace({'\\+': ''}, regex=True, inplace=True) \n",
    "census['median_home_value'].replace({',': ''}, regex=True, inplace=True) \n",
    "\n",
    "census['median_home_value'].replace({'000-1': '000'}, regex=True, inplace=True)"
   ]
  },
  {
   "cell_type": "code",
   "execution_count": 44,
   "metadata": {
    "collapsed": true
   },
   "outputs": [],
   "source": [
    "census['median_contract_rent'].replace({'-': '-1'}, regex=True, inplace=True) \n",
    "census['median_contract_rent'].replace({'\\+': ''}, regex=True, inplace=True) \n",
    "census['median_contract_rent'].replace({',': ''}, regex=True, inplace=True) "
   ]
  },
  {
   "cell_type": "code",
   "execution_count": 45,
   "metadata": {
    "collapsed": true
   },
   "outputs": [],
   "source": [
    "census['median_age_white'].replace({'-': '-1'}, regex=True, inplace=True)"
   ]
  },
  {
   "cell_type": "code",
   "execution_count": 46,
   "metadata": {
    "collapsed": true
   },
   "outputs": [],
   "source": [
    "census['median_age_latin'].replace({'-': '-1'}, regex=True, inplace=True)"
   ]
  },
  {
   "cell_type": "code",
   "execution_count": 51,
   "metadata": {
    "collapsed": false
   },
   "outputs": [],
   "source": [
    "census['median_home_value'] = census['median_home_value'].astype(float)\n",
    "census['median_age_white'] = census['median_age_white'].astype(float)\n",
    "census['median_age_latin'] = census['median_age_latin'].astype(float)\n",
    "census['median_contract_rent'] = census['median_contract_rent'].astype(float)\n",
    "census['median_house_income'] = census['median_house_income'].astype(int)\n",
    "census['tract'] = census.loc[:,'tract'].astype(float)\n",
    "census['blockgroup'] = census.loc[:,'blockgroup'].astype(float)"
   ]
  },
  {
   "cell_type": "code",
   "execution_count": 56,
   "metadata": {
    "collapsed": false
   },
   "outputs": [],
   "source": [
    "#census[['Estimate; Total:_34']]"
   ]
  },
  {
   "cell_type": "code",
   "execution_count": 63,
   "metadata": {
    "collapsed": false
   },
   "outputs": [],
   "source": [
    "## Investigate Language breakdown\n",
    "census['limited_english_households_per'] = (\n",
    "    census[['Estimate; Total: - Spanish: - Limited English speaking household', \n",
    "        'Estimate; Total: - Other Indo-European languages: - Limited English speaking household',\n",
    "        'Estimate; Total: - Asian and Pacific Island languages: - Limited English speaking household',\n",
    "        'Estimate; Total: - Other languages: - Limited English speaking household']].sum(axis=1) / \n",
    "    census['Estimate; Total:_34'])"
   ]
  },
  {
   "cell_type": "code",
   "execution_count": 66,
   "metadata": {
    "collapsed": false
   },
   "outputs": [],
   "source": [
    "census['limited_english_households_spanish_per'] = (\n",
    "    census['Estimate; Total: - Spanish: - Limited English speaking household'] \n",
    "    / census['Estimate; Total:_34'])"
   ]
  },
  {
   "cell_type": "code",
   "execution_count": 69,
   "metadata": {
    "collapsed": false
   },
   "outputs": [
    {
     "data": {
      "text/plain": [
       "[<matplotlib.lines.Line2D at 0x10589ce10>]"
      ]
     },
     "execution_count": 69,
     "metadata": {},
     "output_type": "execute_result"
    },
    {
     "data": {
      "image/png": "[encoded data removed]",
      "text/plain": [
       "<matplotlib.figure.Figure at 0x10589ca10>"
      ]
     },
     "metadata": {},
     "output_type": "display_data"
    }
   ],
   "source": [
    "plt.plot(census['limited_english_households_per'], \n",
    "         census['limited_english_households_spanish_per'], 'ko')"
   ]
  },
  {
   "cell_type": "code",
   "execution_count": 73,
   "metadata": {
    "collapsed": true
   },
   "outputs": [],
   "source": [
    "census.rename(columns={'Estimate; Median age -- - Total:': 'median_age'}, inplace=True)"
   ]
  },
  {
   "cell_type": "code",
   "execution_count": 74,
   "metadata": {
    "collapsed": true
   },
   "outputs": [],
   "source": [
    "census_trimmed = census[['tract', 'blockgroup', 'male_5_17', 'male_18_29', 'male_30_60', 'male_61plus',\n",
    "       'female_5_17', 'female_18_29', 'female_30_60', 'female_61plus',\n",
    "       'rent_0_500', 'rent_501_1000', 'rent_1000plus', 'income_0_25',\n",
    "       'income_25_50', 'income_50_100', 'income_100_150', 'income_150plus', \n",
    "                                'white_per', 'baa_per', 'aian_per', 'asian_per', 'pi_per', \n",
    "                                'other_per', 'tp_per', 'latin_per', 'publica_per', 'ownerocc_per', \n",
    "                        'median_house_income', 'median_structure_year', 'median_home_value', \n",
    "                        'median_age', \n",
    "                        'median_age_white', 'median_age_latin', 'median_contract_rent', \n",
    "                        'limited_english_households_per', 'limited_english_households_spanish_per']]"
   ]
  },
  {
   "cell_type": "code",
   "execution_count": 75,
   "metadata": {
    "collapsed": true
   },
   "outputs": [],
   "source": [
    "#census_trimmed.to_csv('output_files/census_trimmed_0917.csv', index=False)"
   ]
  },
  {
   "cell_type": "code",
   "execution_count": 72,
   "metadata": {
    "collapsed": false
   },
   "outputs": [
    {
     "data": {
      "text/plain": [
       "array(['Id', 'Id2', 'Geography', 'RECORD CODES - File Identification',\n",
       "       'RECORD CODES - State/US-Abbreviation (USPS)',\n",
       "       'RECORD CODES - Summary Level',\n",
       "       'RECORD CODES - Geographic Component',\n",
       "       'RECORD CODES - Characteristic Iteration',\n",
       "       'RECORD CODES - Characteristic Iteration File Sequence Number',\n",
       "       'RECORD CODES - Logical Record Number',\n",
       "       'GEOGRAPHIC AREA CODES - Region',\n",
       "       'GEOGRAPHIC AREA CODES - Division',\n",
       "       'GEOGRAPHIC AREA CODES - State (FIPS)',\n",
       "       'GEOGRAPHIC AREA CODES - County',\n",
       "       'GEOGRAPHIC AREA CODES - FIPS County Class Code',\n",
       "       'GEOGRAPHIC AREA CODES - County Size Code',\n",
       "       'GEOGRAPHIC AREA CODES - County Subdivision (FIPS)',\n",
       "       'GEOGRAPHIC AREA CODES - FIPS County Subdivision Class Code',\n",
       "       'GEOGRAPHIC AREA CODES - County Subdivision Size Code',\n",
       "       'GEOGRAPHIC AREA CODES - Place (FIPS)',\n",
       "       'GEOGRAPHIC AREA CODES - FIPS Place Class Code',\n",
       "       'GEOGRAPHIC AREA CODES - Place Size Code', 'tract', 'blockgroup',\n",
       "       'GEOGRAPHIC AREA CODES - Block',\n",
       "       'GEOGRAPHIC AREA CODES - Internal Use Code',\n",
       "       'GEOGRAPHIC AREA CODES - Consolidated City (FIPS)',\n",
       "       'GEOGRAPHIC AREA CODES - FIPS Consolidated City Class Code',\n",
       "       'GEOGRAPHIC AREA CODES - Consolidated City Size Code',\n",
       "       'GEOGRAPHIC AREA CODES - American Indian Area/Alaska Native Area/Hawaiian Home Land (Census)',\n",
       "       'GEOGRAPHIC AREA CODES - American Indian Area/Alaska Native Area/Hawaiian Home Land (FIPS)',\n",
       "       'GEOGRAPHIC AREA CODES - FIPS American Indian Area/Alaska Native Area/Hawaiian Home Land Class Code',\n",
       "       'GEOGRAPHIC AREA CODES - American Indian Trust Land/Hawaiian Home Land Indicator',\n",
       "       'GEOGRAPHIC AREA CODES - American Indian Tribal Subdivision (Census)',\n",
       "       'GEOGRAPHIC AREA CODES - American Indian Tribal Subdivision (FIPS)',\n",
       "       'GEOGRAPHIC AREA CODES - FIPS American Indian Tribal Subdivision Class Code',\n",
       "       'GEOGRAPHIC AREA CODES - Tribal Census Tract',\n",
       "       'GEOGRAPHIC AREA CODES - Tribal Block Group',\n",
       "       'GEOGRAPHIC AREA CODES - Alaska Native Regional Corporation (FIPS)',\n",
       "       'GEOGRAPHIC AREA CODES - FIPS Alaska Native Regional Corporation Class Code',\n",
       "       'GEOGRAPHIC AREA CODES - Metropolitan Statistical Area/Micropolitan Statistical Area',\n",
       "       'GEOGRAPHIC AREA CODES - Metropolitan Statistical Area/Micropolitan Statistical Area Size Code',\n",
       "       'GEOGRAPHIC AREA CODES - Metropolitan Division',\n",
       "       'GEOGRAPHIC AREA CODES - Combined Statistical Area',\n",
       "       'GEOGRAPHIC AREA CODES - New England City and Town Area',\n",
       "       'GEOGRAPHIC AREA CODES - New England City and Town Area Size Code',\n",
       "       'GEOGRAPHIC AREA CODES - New England City and Town Area Division',\n",
       "       'GEOGRAPHIC AREA CODES - Combined New England City and Town Area',\n",
       "       'GEOGRAPHIC AREA CODES - Metropolitan Statistical Area/Micropolitan Statistical Area Principal City Indicator',\n",
       "       'GEOGRAPHIC AREA CODES - New England City and Town Area Principal City Indicator',\n",
       "       'GEOGRAPHIC AREA CODES - Urban Area',\n",
       "       'GEOGRAPHIC AREA CODES - Urban Area Size Code',\n",
       "       'GEOGRAPHIC AREA CODES - Urban Area Type',\n",
       "       'GEOGRAPHIC AREA CODES - Urban/Rural',\n",
       "       'GEOGRAPHIC AREA CODES - Congressional District (114th)',\n",
       "       'GEOGRAPHIC AREA CODES - State Legislative District (Upper Chamber) (Year 1)',\n",
       "       'GEOGRAPHIC AREA CODES - State Legislative District (Lower Chamber) (Year 1)',\n",
       "       'GEOGRAPHIC AREA CODES - Voting District',\n",
       "       'GEOGRAPHIC AREA CODES - Voting District Indicator',\n",
       "       'GEOGRAPHIC AREA CODES - Reserved',\n",
       "       'GEOGRAPHIC AREA CODES - ZIP Code Tabulation Area (5 digit)',\n",
       "       'GEOGRAPHIC AREA CODES - Subminor Civil Division (FIPS)',\n",
       "       'GEOGRAPHIC AREA CODES - FIPS Subminor Civil Division Class Code',\n",
       "       'GEOGRAPHIC AREA CODES - School District (Elementary)',\n",
       "       'GEOGRAPHIC AREA CODES - School District (Secondary)',\n",
       "       'GEOGRAPHIC AREA CODES - School District (Unified)',\n",
       "       'AREA CHARACTERISTICS - Area (Land)',\n",
       "       'AREA CHARACTERISTICS - Area (Water)',\n",
       "       'AREA CHARACTERISTICS - Area Name-Legal/Statistical Area Description (LSAD) Term-Part Indicator',\n",
       "       'AREA CHARACTERISTICS - Functional Status Code',\n",
       "       'AREA CHARACTERISTICS - Geographic Change User Note Indicator',\n",
       "       'AREA CHARACTERISTICS - Population Count (100%)',\n",
       "       'AREA CHARACTERISTICS - Housing Unit Count (100%)',\n",
       "       'AREA CHARACTERISTICS - Internal Point (Latitude)',\n",
       "       'AREA CHARACTERISTICS - Internal Point (Longitude)',\n",
       "       'AREA CHARACTERISTICS - Legal/Statistical Area Description Code',\n",
       "       'AREA CHARACTERISTICS - Part Flag', 'SPECIAL AREA CODES - Reserved',\n",
       "       'SPECIAL AREA CODES - Urban Growth Area',\n",
       "       'SPECIAL AREA CODES - State (ANSI)',\n",
       "       'SPECIAL AREA CODES - County (ANSI)',\n",
       "       'SPECIAL AREA CODES - County Subdivision (ANSI)',\n",
       "       'SPECIAL AREA CODES - Place (ANSI)',\n",
       "       'SPECIAL AREA CODES - Consolidated City (ANSI)',\n",
       "       'SPECIAL AREA CODES - American Indian Area/Alaska Native Area/Hawaiian Home Land (ANSI)',\n",
       "       'SPECIAL AREA CODES - American Indian Tribal Subdivision (ANSI)',\n",
       "       'SPECIAL AREA CODES - Alaska Native Regional Corporation (ANSI)',\n",
       "       'SPECIAL AREA CODES - Subminor Civil Division (ANSI)',\n",
       "       'SPECIAL AREA CODES - Congressional District (113th)',\n",
       "       'SPECIAL AREA CODES - Congressional District (114th)',\n",
       "       'SPECIAL AREA CODES - Congressional District (115th)',\n",
       "       'SPECIAL AREA CODES - State Legislative District (Upper Chamber) (Year 2)',\n",
       "       'SPECIAL AREA CODES - State Legislative District (Upper Chamber) (Year 3)',\n",
       "       'SPECIAL AREA CODES - State Legislative District (Upper Chamber) (Year 4)',\n",
       "       'SPECIAL AREA CODES - State Legislative District (Lower Chamber) (Year 2)',\n",
       "       'SPECIAL AREA CODES - State Legislative District (Lower Chamber) (Year 3)',\n",
       "       'SPECIAL AREA CODES - State Legislative District (Lower Chamber) (Year 4)',\n",
       "       'SPECIAL AREA CODES - American Indian Area/Alaska Native Area/Hawaiian Home Land Size Code',\n",
       "       'SPECIAL AREA CODES - Combined Statistical Area Size Code',\n",
       "       'SPECIAL AREA CODES - Combined NECTA Size Code',\n",
       "       'SPECIAL AREA CODES - Metropolitan Micropolitan Indicator',\n",
       "       'SPECIAL AREA CODES - NECTA Metropolitan Micropolitan Indicator',\n",
       "       'SPECIAL AREA CODES - Public Use Microdata Area',\n",
       "       'SPECIAL AREA CODES - Reserved.1', 'Id2_0', 'Geography_0',\n",
       "       'Estimate; Total:', 'Margin of Error; Total:', 'Estimate; Male:',\n",
       "       'Margin of Error; Male:', 'Estimate; Male: - Under 5 years',\n",
       "       'Margin of Error; Male: - Under 5 years',\n",
       "       'Estimate; Male: - 5 to 9 years',\n",
       "       'Margin of Error; Male: - 5 to 9 years',\n",
       "       'Estimate; Male: - 10 to 14 years',\n",
       "       'Margin of Error; Male: - 10 to 14 years',\n",
       "       'Estimate; Male: - 15 to 17 years',\n",
       "       'Margin of Error; Male: - 15 to 17 years',\n",
       "       'Estimate; Male: - 18 and 19 years',\n",
       "       'Margin of Error; Male: - 18 and 19 years',\n",
       "       'Estimate; Male: - 20 years', 'Margin of Error; Male: - 20 years',\n",
       "       'Estimate; Male: - 21 years', 'Margin of Error; Male: - 21 years',\n",
       "       'Estimate; Male: - 22 to 24 years',\n",
       "       'Margin of Error; Male: - 22 to 24 years',\n",
       "       'Estimate; Male: - 25 to 29 years',\n",
       "       'Margin of Error; Male: - 25 to 29 years',\n",
       "       'Estimate; Male: - 30 to 34 years',\n",
       "       'Margin of Error; Male: - 30 to 34 years',\n",
       "       'Estimate; Male: - 35 to 39 years',\n",
       "       'Margin of Error; Male: - 35 to 39 years',\n",
       "       'Estimate; Male: - 40 to 44 years',\n",
       "       'Margin of Error; Male: - 40 to 44 years',\n",
       "       'Estimate; Male: - 45 to 49 years',\n",
       "       'Margin of Error; Male: - 45 to 49 years',\n",
       "       'Estimate; Male: - 50 to 54 years',\n",
       "       'Margin of Error; Male: - 50 to 54 years',\n",
       "       'Estimate; Male: - 55 to 59 years',\n",
       "       'Margin of Error; Male: - 55 to 59 years',\n",
       "       'Estimate; Male: - 60 and 61 years',\n",
       "       'Margin of Error; Male: - 60 and 61 years',\n",
       "       'Estimate; Male: - 62 to 64 years',\n",
       "       'Margin of Error; Male: - 62 to 64 years',\n",
       "       'Estimate; Male: - 65 and 66 years',\n",
       "       'Margin of Error; Male: - 65 and 66 years',\n",
       "       'Estimate; Male: - 67 to 69 years',\n",
       "       'Margin of Error; Male: - 67 to 69 years',\n",
       "       'Estimate; Male: - 70 to 74 years',\n",
       "       'Margin of Error; Male: - 70 to 74 years',\n",
       "       'Estimate; Male: - 75 to 79 years',\n",
       "       'Margin of Error; Male: - 75 to 79 years',\n",
       "       'Estimate; Male: - 80 to 84 years',\n",
       "       'Margin of Error; Male: - 80 to 84 years',\n",
       "       'Estimate; Male: - 85 years and over',\n",
       "       'Margin of Error; Male: - 85 years and over', 'Estimate; Female:',\n",
       "       'Margin of Error; Female:', 'Estimate; Female: - Under 5 years',\n",
       "       'Margin of Error; Female: - Under 5 years',\n",
       "       'Estimate; Female: - 5 to 9 years',\n",
       "       'Margin of Error; Female: - 5 to 9 years',\n",
       "       'Estimate; Female: - 10 to 14 years',\n",
       "       'Margin of Error; Female: - 10 to 14 years',\n",
       "       'Estimate; Female: - 15 to 17 years',\n",
       "       'Margin of Error; Female: - 15 to 17 years',\n",
       "       'Estimate; Female: - 18 and 19 years',\n",
       "       'Margin of Error; Female: - 18 and 19 years',\n",
       "       'Estimate; Female: - 20 years',\n",
       "       'Margin of Error; Female: - 20 years',\n",
       "       'Estimate; Female: - 21 years',\n",
       "       'Margin of Error; Female: - 21 years',\n",
       "       'Estimate; Female: - 22 to 24 years',\n",
       "       'Margin of Error; Female: - 22 to 24 years',\n",
       "       'Estimate; Female: - 25 to 29 years',\n",
       "       'Margin of Error; Female: - 25 to 29 years',\n",
       "       'Estimate; Female: - 30 to 34 years',\n",
       "       'Margin of Error; Female: - 30 to 34 years',\n",
       "       'Estimate; Female: - 35 to 39 years',\n",
       "       'Margin of Error; Female: - 35 to 39 years',\n",
       "       'Estimate; Female: - 40 to 44 years',\n",
       "       'Margin of Error; Female: - 40 to 44 years',\n",
       "       'Estimate; Female: - 45 to 49 years',\n",
       "       'Margin of Error; Female: - 45 to 49 years',\n",
       "       'Estimate; Female: - 50 to 54 years',\n",
       "       'Margin of Error; Female: - 50 to 54 years',\n",
       "       'Estimate; Female: - 55 to 59 years',\n",
       "       'Margin of Error; Female: - 55 to 59 years',\n",
       "       'Estimate; Female: - 60 and 61 years',\n",
       "       'Margin of Error; Female: - 60 and 61 years',\n",
       "       'Estimate; Female: - 62 to 64 years',\n",
       "       'Margin of Error; Female: - 62 to 64 years',\n",
       "       'Estimate; Female: - 65 and 66 years',\n",
       "       'Margin of Error; Female: - 65 and 66 years',\n",
       "       'Estimate; Female: - 67 to 69 years',\n",
       "       'Margin of Error; Female: - 67 to 69 years',\n",
       "       'Estimate; Female: - 70 to 74 years',\n",
       "       'Margin of Error; Female: - 70 to 74 years',\n",
       "       'Estimate; Female: - 75 to 79 years',\n",
       "       'Margin of Error; Female: - 75 to 79 years',\n",
       "       'Estimate; Female: - 80 to 84 years',\n",
       "       'Margin of Error; Female: - 80 to 84 years',\n",
       "       'Estimate; Female: - 85 years and over',\n",
       "       'Margin of Error; Female: - 85 years and over', 'Id2_1',\n",
       "       'Geography_1', 'Estimate; Median age -- - Total:',\n",
       "       'Margin of Error; Median age -- - Total:',\n",
       "       'Estimate; Median age -- - Male',\n",
       "       'Margin of Error; Median age -- - Male',\n",
       "       'Estimate; Median age -- - Female',\n",
       "       'Margin of Error; Median age -- - Female', 'Id2_4', 'Geography_4',\n",
       "       'Estimate; Total', 'Margin of Error; Total', 'Id2_12',\n",
       "       'Geography_12', 'Estimate; Total:_12', 'Margin of Error; Total:_12',\n",
       "       'Estimate; Not Hispanic or Latino:',\n",
       "       'Margin of Error; Not Hispanic or Latino:', 'white_per',\n",
       "       'Margin of Error; Not Hispanic or Latino: - White alone', 'baa_per',\n",
       "       'Margin of Error; Not Hispanic or Latino: - Black or African American alone',\n",
       "       'aian_per',\n",
       "       'Margin of Error; Not Hispanic or Latino: - American Indian and Alaska Native alone',\n",
       "       'asian_per',\n",
       "       'Margin of Error; Not Hispanic or Latino: - Asian alone', 'pi_per',\n",
       "       'Margin of Error; Not Hispanic or Latino: - Native Hawaiian and Other Pacific Islander alone',\n",
       "       'other_per',\n",
       "       'Margin of Error; Not Hispanic or Latino: - Some other race alone',\n",
       "       'tp_per',\n",
       "       'Margin of Error; Not Hispanic or Latino: - Two or more races:',\n",
       "       'Margin of Error; Not Hispanic or Latino: - Two or more races: - Two races including Some other race',\n",
       "       'Margin of Error; Not Hispanic or Latino: - Two or more races: - Two races excluding Some other race, and three or more races',\n",
       "       'latin_per', 'Margin of Error; Hispanic or Latino:',\n",
       "       'Estimate; Hispanic or Latino: - White alone',\n",
       "       'Margin of Error; Hispanic or Latino: - White alone',\n",
       "       'Estimate; Hispanic or Latino: - Black or African American alone',\n",
       "       'Margin of Error; Hispanic or Latino: - Black or African American alone',\n",
       "       'Estimate; Hispanic or Latino: - American Indian and Alaska Native alone',\n",
       "       'Margin of Error; Hispanic or Latino: - American Indian and Alaska Native alone',\n",
       "       'Estimate; Hispanic or Latino: - Asian alone',\n",
       "       'Margin of Error; Hispanic or Latino: - Asian alone',\n",
       "       'Estimate; Hispanic or Latino: - Native Hawaiian and Other Pacific Islander alone',\n",
       "       'Margin of Error; Hispanic or Latino: - Native Hawaiian and Other Pacific Islander alone',\n",
       "       'Estimate; Hispanic or Latino: - Some other race alone',\n",
       "       'Margin of Error; Hispanic or Latino: - Some other race alone',\n",
       "       'Estimate; Hispanic or Latino: - Two or more races:',\n",
       "       'Margin of Error; Hispanic or Latino: - Two or more races:',\n",
       "       'Estimate; Hispanic or Latino: - Two or more races: - Two races including Some other race',\n",
       "       'Margin of Error; Hispanic or Latino: - Two or more races: - Two races including Some other race',\n",
       "       'Estimate; Hispanic or Latino: - Two or more races: - Two races excluding Some other race, and three or more races',\n",
       "       'Margin of Error; Hispanic or Latino: - Two or more races: - Two races excluding Some other race, and three or more races',\n",
       "       'Id2_18', 'Geography_18', 'Estimate; Total:_18',\n",
       "       'Margin of Error; Total:_18',\n",
       "       'Estimate; Total: - Less than $10,000',\n",
       "       'Margin of Error; Total: - Less than $10,000',\n",
       "       'Estimate; Total: - $10,000 to $14,999',\n",
       "       'Margin of Error; Total: - $10,000 to $14,999',\n",
       "       'Estimate; Total: - $15,000 to $19,999',\n",
       "       'Margin of Error; Total: - $15,000 to $19,999',\n",
       "       'Estimate; Total: - $20,000 to $24,999',\n",
       "       'Margin of Error; Total: - $20,000 to $24,999',\n",
       "       'Estimate; Total: - $25,000 to $29,999',\n",
       "       'Margin of Error; Total: - $25,000 to $29,999',\n",
       "       'Estimate; Total: - $30,000 to $34,999',\n",
       "       'Margin of Error; Total: - $30,000 to $34,999',\n",
       "       'Estimate; Total: - $35,000 to $39,999',\n",
       "       'Margin of Error; Total: - $35,000 to $39,999',\n",
       "       'Estimate; Total: - $40,000 to $44,999',\n",
       "       'Margin of Error; Total: - $40,000 to $44,999',\n",
       "       'Estimate; Total: - $45,000 to $49,999',\n",
       "       'Margin of Error; Total: - $45,000 to $49,999',\n",
       "       'Estimate; Total: - $50,000 to $59,999',\n",
       "       'Margin of Error; Total: - $50,000 to $59,999',\n",
       "       'Estimate; Total: - $60,000 to $74,999',\n",
       "       'Margin of Error; Total: - $60,000 to $74,999',\n",
       "       'Estimate; Total: - $75,000 to $99,999',\n",
       "       'Margin of Error; Total: - $75,000 to $99,999',\n",
       "       'Estimate; Total: - $100,000 to $124,999',\n",
       "       'Margin of Error; Total: - $100,000 to $124,999',\n",
       "       'Estimate; Total: - $125,000 to $149,999',\n",
       "       'Margin of Error; Total: - $125,000 to $149,999',\n",
       "       'Estimate; Total: - $150,000 to $199,999',\n",
       "       'Margin of Error; Total: - $150,000 to $199,999',\n",
       "       'Estimate; Total: - $200,000 or more',\n",
       "       'Margin of Error; Total: - $200,000 or more', 'Id2_19',\n",
       "       'Geography_19', 'median_house_income',\n",
       "       'Margin of Error; Median household income in the past 12 months (in 2014 Inflation-adjusted dollars)',\n",
       "       'Id2_20', 'Geography_20', 'Estimate; Total:_20',\n",
       "       'Margin of Error; Total:_20', 'publica_per',\n",
       "       'Margin of Error; Total: - With public assistance income',\n",
       "       'Estimate; Total: - No public assistance income',\n",
       "       'Margin of Error; Total: - No public assistance income', 'Id2_21',\n",
       "       'Geography_21',\n",
       "       'Estimate; Per capita income in the past 12 months (in 2014 Inflation-adjusted dollars)',\n",
       "       'Margin of Error; Per capita income in the past 12 months (in 2014 Inflation-adjusted dollars)',\n",
       "       'Id2_22', 'Geography_22', 'Estimate; Total:_22',\n",
       "       'Margin of Error; Total:_22', 'ownerocc_per',\n",
       "       'Margin of Error; Total: - Owner occupied',\n",
       "       'Estimate; Total: - Renter occupied',\n",
       "       'Margin of Error; Total: - Renter occupied', 'Id2_26',\n",
       "       'Geography_26', 'median_structure_year',\n",
       "       'Margin of Error; Median year structure built', 'Id2_27',\n",
       "       'Geography_27', 'Estimate; Total:_27', 'Margin of Error; Total:_27',\n",
       "       'Estimate; With cash rent:', 'Margin of Error; With cash rent:',\n",
       "       'Estimate; With cash rent: - Less than $100',\n",
       "       'Margin of Error; With cash rent: - Less than $100',\n",
       "       'Estimate; With cash rent: - $100 to $149',\n",
       "       'Margin of Error; With cash rent: - $100 to $149',\n",
       "       'Estimate; With cash rent: - $150 to $199',\n",
       "       'Margin of Error; With cash rent: - $150 to $199',\n",
       "       'Estimate; With cash rent: - $200 to $249',\n",
       "       'Margin of Error; With cash rent: - $200 to $249',\n",
       "       'Estimate; With cash rent: - $250 to $299',\n",
       "       'Margin of Error; With cash rent: - $250 to $299',\n",
       "       'Estimate; With cash rent: - $300 to $349',\n",
       "       'Margin of Error; With cash rent: - $300 to $349',\n",
       "       'Estimate; With cash rent: - $350 to $399',\n",
       "       'Margin of Error; With cash rent: - $350 to $399',\n",
       "       'Estimate; With cash rent: - $400 to $449',\n",
       "       'Margin of Error; With cash rent: - $400 to $449',\n",
       "       'Estimate; With cash rent: - $450 to $499',\n",
       "       'Margin of Error; With cash rent: - $450 to $499',\n",
       "       'Estimate; With cash rent: - $500 to $549',\n",
       "       'Margin of Error; With cash rent: - $500 to $549',\n",
       "       'Estimate; With cash rent: - $550 to $599',\n",
       "       'Margin of Error; With cash rent: - $550 to $599',\n",
       "       'Estimate; With cash rent: - $600 to $649',\n",
       "       'Margin of Error; With cash rent: - $600 to $649',\n",
       "       'Estimate; With cash rent: - $650 to $699',\n",
       "       'Margin of Error; With cash rent: - $650 to $699',\n",
       "       'Estimate; With cash rent: - $700 to $749',\n",
       "       'Margin of Error; With cash rent: - $700 to $749',\n",
       "       'Estimate; With cash rent: - $750 to $799',\n",
       "       'Margin of Error; With cash rent: - $750 to $799',\n",
       "       'Estimate; With cash rent: - $800 to $899',\n",
       "       'Margin of Error; With cash rent: - $800 to $899',\n",
       "       'Estimate; With cash rent: - $900 to $999',\n",
       "       'Margin of Error; With cash rent: - $900 to $999',\n",
       "       'Estimate; With cash rent: - $1,000 to $1,249',\n",
       "       'Margin of Error; With cash rent: - $1,000 to $1,249',\n",
       "       'Estimate; With cash rent: - $1,250 to $1,499',\n",
       "       'Margin of Error; With cash rent: - $1,250 to $1,499',\n",
       "       'Estimate; With cash rent: - $1,500 to $1,999',\n",
       "       'Margin of Error; With cash rent: - $1,500 to $1,999',\n",
       "       'Estimate; With cash rent: - $2,000 or more',\n",
       "       'Margin of Error; With cash rent: - $2,000 or more',\n",
       "       'Estimate; No cash rent', 'Margin of Error; No cash rent', 'Id2_28',\n",
       "       'Geography_28', 'median_contract_rent',\n",
       "       'Margin of Error; Median contract rent', 'Id2_31', 'Geography_31',\n",
       "       'median_home_value', 'Margin of Error; Median value (dollars)',\n",
       "       'Id2_2', 'Geography_2', 'median_age_white',\n",
       "       'Margin of Error; Median age -- - Total:_2',\n",
       "       'Estimate; Median age -- - Male_2',\n",
       "       'Margin of Error; Median age -- - Male_2',\n",
       "       'Estimate; Median age -- - Female_2',\n",
       "       'Margin of Error; Median age -- - Female_2', 'Id2_3', 'Geography_3',\n",
       "       'median_age_latin', 'Margin of Error; Median age -- - Total:_3',\n",
       "       'Estimate; Median age -- - Male_3',\n",
       "       'Margin of Error; Median age -- - Male_3',\n",
       "       'Estimate; Median age -- - Female_3',\n",
       "       'Margin of Error; Median age -- - Female_3', 'Id2_34',\n",
       "       'Geography_34', 'Estimate; Total:_34', 'Margin of Error; Total:_34',\n",
       "       'Estimate; Total: - English only',\n",
       "       'Margin of Error; Total: - English only',\n",
       "       'Estimate; Total: - Spanish:', 'Margin of Error; Total: - Spanish:',\n",
       "       'Estimate; Total: - Spanish: - Limited English speaking household',\n",
       "       'Margin of Error; Total: - Spanish: - Limited English speaking household',\n",
       "       'Estimate; Total: - Spanish: - Not a limited English speaking household',\n",
       "       'Margin of Error; Total: - Spanish: - Not a limited English speaking household',\n",
       "       'Estimate; Total: - Other Indo-European languages:',\n",
       "       'Margin of Error; Total: - Other Indo-European languages:',\n",
       "       'Estimate; Total: - Other Indo-European languages: - Limited English speaking household',\n",
       "       'Margin of Error; Total: - Other Indo-European languages: - Limited English speaking household',\n",
       "       'Estimate; Total: - Other Indo-European languages: - Not a limited English speaking household',\n",
       "       'Margin of Error; Total: - Other Indo-European languages: - Not a limited English speaking household',\n",
       "       'Estimate; Total: - Asian and Pacific Island languages:',\n",
       "       'Margin of Error; Total: - Asian and Pacific Island languages:',\n",
       "       'Estimate; Total: - Asian and Pacific Island languages: - Limited English speaking household',\n",
       "       'Margin of Error; Total: - Asian and Pacific Island languages: - Limited English speaking household',\n",
       "       'Estimate; Total: - Asian and Pacific Island languages: - Not a limited English speaking household',\n",
       "       'Margin of Error; Total: - Asian and Pacific Island languages: - Not a limited English speaking household',\n",
       "       'Estimate; Total: - Other languages:',\n",
       "       'Margin of Error; Total: - Other languages:',\n",
       "       'Estimate; Total: - Other languages: - Limited English speaking household',\n",
       "       'Margin of Error; Total: - Other languages: - Limited English speaking household',\n",
       "       'Estimate; Total: - Other languages: - Not a limited English speaking household',\n",
       "       'Margin of Error; Total: - Other languages: - Not a limited English speaking household',\n",
       "       'male_5_17', 'male_18_29', 'male_30_60', 'male_61plus',\n",
       "       'female_5_17', 'female_18_29', 'female_30_60', 'female_61plus',\n",
       "       'rent_0_500', 'rent_501_1000', 'rent_1000plus', 'income_0_25',\n",
       "       'income_25_50', 'income_50_100', 'income_100_150', 'income_150plus',\n",
       "       'limited_english_households_per',\n",
       "       'limited_english_households_spanish_per'], dtype=object)"
      ]
     },
     "execution_count": 72,
     "metadata": {},
     "output_type": "execute_result"
    }
   ],
   "source": [
    "census.columns.values"
   ]
  },
  {
   "cell_type": "code",
   "execution_count": null,
   "metadata": {
    "collapsed": true
   },
   "outputs": [],
   "source": []
  },
  {
   "cell_type": "code",
   "execution_count": null,
   "metadata": {
    "collapsed": true
   },
   "outputs": [],
   "source": []
  }
 ],
 "metadata": {
  "anaconda-cloud": {},
  "kernelspec": {
   "display_name": "Python [default]",
   "language": "python",
   "name": "python2"
  },
  "language_info": {
   "codemirror_mode": {
    "name": "ipython",
    "version": 2
   },
   "file_extension": ".py",
   "mimetype": "text/x-python",
   "name": "python",
   "nbconvert_exporter": "python",
   "pygments_lexer": "ipython2",
   "version": "2.7.12"
  }
 },
 "nbformat": 4,
 "nbformat_minor": 1
}
