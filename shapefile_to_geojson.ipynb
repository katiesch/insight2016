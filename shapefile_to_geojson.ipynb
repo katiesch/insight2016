{
 "cells": [
  {
   "cell_type": "code",
   "execution_count": 237,
   "metadata": {
    "collapsed": false
   },
   "outputs": [],
   "source": [
    "%matplotlib inline \n",
    "\n",
    "import numpy as np\n",
    "import matplotlib.pyplot as plt\n",
    "import pandas as pd\n",
    "import os\n",
    "import glob\n",
    "import sklearn\n",
    "import datetime\n",
    "import array \n",
    "import math\n",
    "\n",
    "#from osgeo import ogr\n",
    "\n",
    "import shapefile as sf\n",
    "from matplotlib.patches import Polygon\n",
    "import mpld3\n",
    "\n",
    "from pyproj import Proj\n",
    "from censusgeocode import CensusGeocode\n",
    "from matplotlib.collections import PatchCollection"
   ]
  },
  {
   "cell_type": "code",
   "execution_count": 278,
   "metadata": {
    "collapsed": true
   },
   "outputs": [],
   "source": [
    "# read in the processed data. \n",
    "predictions = pd.read_csv('output_files/census_predictions_0926.csv')"
   ]
  },
  {
   "cell_type": "code",
   "execution_count": 279,
   "metadata": {
    "collapsed": false
   },
   "outputs": [],
   "source": [
    "predictions['population_density'] = ((predictions['total_pop']).astype(float) \n",
    "                                     / ((predictions['land_area']).astype(float) * 3.86102e-7))"
   ]
  },
  {
   "cell_type": "code",
   "execution_count": 320,
   "metadata": {
    "collapsed": false
   },
   "outputs": [],
   "source": [
    "#predictions['tree_density'] = predictions['tree_density'] / 3.86102e-7\n",
    "#predictions['sl_density'] = predictions['sl_density'] / 3.86102e-7\n",
    "predictions['landarea'] = predictions['land_area'] * 3.86102e-7 # square miles. Fractions...hmm."
   ]
  },
  {
   "cell_type": "code",
   "execution_count": 281,
   "metadata": {
    "collapsed": false
   },
   "outputs": [],
   "source": [
    "predictions['rep_per_cap'] = predictions['rep_per_cap'] * 1000.\n",
    "predictions['crime_per_cap'] = predictions['crime_per_cap'] * 1000. \n",
    "predictions['graffiti_per_cap'] = predictions['graffiti_per_cap'] * 1000. "
   ]
  },
  {
   "cell_type": "code",
   "execution_count": 331,
   "metadata": {
    "collapsed": true
   },
   "outputs": [],
   "source": [
    "#predictions['graffiti_reported_per'] = predictions['graffiti_per']\n",
    "#predictions.loc[np.where(predictions['count']<22)[0], 'graffiti_reported_per'] = 0.0\n",
    "#predictions['graffiti_reported_per'] = predictions['graffiti_reported_per'] * 100. \n",
    "predictions['graffiti_reported_per'] = predictions['graffiti_per'] * 100."
   ]
  },
  {
   "cell_type": "code",
   "execution_count": 283,
   "metadata": {
    "collapsed": true
   },
   "outputs": [],
   "source": [
    "predictions['combined_labels'] = predictions['combined_labels'] * 100. \n",
    "predictions['predicted_labels'] = predictions['predicted_labels'] * 100. "
   ]
  },
  {
   "cell_type": "code",
   "execution_count": 284,
   "metadata": {
    "collapsed": true
   },
   "outputs": [],
   "source": [
    "predictions['white_per'] = predictions['white_per'] * 100. \n",
    "predictions['latin_per'] = predictions['latin_per'] * 100. "
   ]
  },
  {
   "cell_type": "code",
   "execution_count": 285,
   "metadata": {
    "collapsed": false
   },
   "outputs": [],
   "source": [
    "predictions['limited_english_households_per'] = predictions['limited_english_households_per'] * 100."
   ]
  },
  {
   "cell_type": "code",
   "execution_count": 330,
   "metadata": {
    "collapsed": false
   },
   "outputs": [
    {
     "data": {
      "text/html": [
       "<div>\n",
       "<table border=\"1\" class=\"dataframe\">\n",
       "  <thead>\n",
       "    <tr style=\"text-align: right;\">\n",
       "      <th></th>\n",
       "      <th>total_pop</th>\n",
       "      <th>rep_per_cap</th>\n",
       "      <th>graffiti_per</th>\n",
       "      <th>white_per</th>\n",
       "      <th>latin_per</th>\n",
       "      <th>median_house_income</th>\n",
       "      <th>median_age</th>\n",
       "      <th>limited_english_households_per</th>\n",
       "      <th>tree_density</th>\n",
       "      <th>crime_per_cap</th>\n",
       "      <th>ap_count</th>\n",
       "      <th>predicted_labels</th>\n",
       "      <th>landarea</th>\n",
       "      <th>graffiti_reported_per</th>\n",
       "      <th>combined_labels</th>\n",
       "      <th>graffiti_per_cap</th>\n",
       "      <th>sl_density</th>\n",
       "      <th>count</th>\n",
       "      <th>population_density</th>\n",
       "    </tr>\n",
       "  </thead>\n",
       "  <tbody>\n",
       "    <tr>\n",
       "      <th>count</th>\n",
       "      <td>835.000000</td>\n",
       "      <td>835.000000</td>\n",
       "      <td>835.000000</td>\n",
       "      <td>835.000000</td>\n",
       "      <td>835.000000</td>\n",
       "      <td>835.000000</td>\n",
       "      <td>835.000000</td>\n",
       "      <td>835.000000</td>\n",
       "      <td>835.000000</td>\n",
       "      <td>835.000000</td>\n",
       "      <td>835.000000</td>\n",
       "      <td>835.000000</td>\n",
       "      <td>835.000000</td>\n",
       "      <td>835.000000</td>\n",
       "      <td>835.000000</td>\n",
       "      <td>835.000000</td>\n",
       "      <td>835.000000</td>\n",
       "      <td>835.000000</td>\n",
       "      <td>835.000000</td>\n",
       "    </tr>\n",
       "    <tr>\n",
       "      <th>mean</th>\n",
       "      <td>1647.214371</td>\n",
       "      <td>17.716968</td>\n",
       "      <td>0.130749</td>\n",
       "      <td>48.047883</td>\n",
       "      <td>27.664681</td>\n",
       "      <td>70392.211976</td>\n",
       "      <td>36.747425</td>\n",
       "      <td>7.655691</td>\n",
       "      <td>1354.120933</td>\n",
       "      <td>33.539292</td>\n",
       "      <td>0.396407</td>\n",
       "      <td>25.197507</td>\n",
       "      <td>0.420307</td>\n",
       "      <td>5.218007</td>\n",
       "      <td>22.449121</td>\n",
       "      <td>2.881359</td>\n",
       "      <td>301.286434</td>\n",
       "      <td>21.847904</td>\n",
       "      <td>10788.168203</td>\n",
       "    </tr>\n",
       "    <tr>\n",
       "      <th>std</th>\n",
       "      <td>1179.883394</td>\n",
       "      <td>51.413443</td>\n",
       "      <td>0.170677</td>\n",
       "      <td>28.613936</td>\n",
       "      <td>24.980165</td>\n",
       "      <td>34877.355135</td>\n",
       "      <td>9.334050</td>\n",
       "      <td>8.980896</td>\n",
       "      <td>950.087535</td>\n",
       "      <td>348.997197</td>\n",
       "      <td>0.801519</td>\n",
       "      <td>17.918503</td>\n",
       "      <td>1.506375</td>\n",
       "      <td>12.030302</td>\n",
       "      <td>17.979098</td>\n",
       "      <td>8.757547</td>\n",
       "      <td>334.301843</td>\n",
       "      <td>26.014423</td>\n",
       "      <td>8293.533331</td>\n",
       "    </tr>\n",
       "    <tr>\n",
       "      <th>min</th>\n",
       "      <td>26.000000</td>\n",
       "      <td>0.000000</td>\n",
       "      <td>0.000000</td>\n",
       "      <td>0.000000</td>\n",
       "      <td>0.000000</td>\n",
       "      <td>-1.000000</td>\n",
       "      <td>12.400000</td>\n",
       "      <td>0.000000</td>\n",
       "      <td>0.000000</td>\n",
       "      <td>0.000000</td>\n",
       "      <td>0.000000</td>\n",
       "      <td>0.000000</td>\n",
       "      <td>0.023625</td>\n",
       "      <td>0.000000</td>\n",
       "      <td>0.000000</td>\n",
       "      <td>0.000000</td>\n",
       "      <td>0.000000</td>\n",
       "      <td>0.000000</td>\n",
       "      <td>20.557691</td>\n",
       "    </tr>\n",
       "    <tr>\n",
       "      <th>25%</th>\n",
       "      <td>980.500000</td>\n",
       "      <td>5.263408</td>\n",
       "      <td>0.000000</td>\n",
       "      <td>22.499528</td>\n",
       "      <td>9.570969</td>\n",
       "      <td>45055.500000</td>\n",
       "      <td>30.250000</td>\n",
       "      <td>1.022383</td>\n",
       "      <td>730.932779</td>\n",
       "      <td>5.333703</td>\n",
       "      <td>0.000000</td>\n",
       "      <td>11.630336</td>\n",
       "      <td>0.088734</td>\n",
       "      <td>0.000000</td>\n",
       "      <td>7.190809</td>\n",
       "      <td>0.000000</td>\n",
       "      <td>154.733918</td>\n",
       "      <td>8.000000</td>\n",
       "      <td>5107.938288</td>\n",
       "    </tr>\n",
       "    <tr>\n",
       "      <th>50%</th>\n",
       "      <td>1410.000000</td>\n",
       "      <td>10.139860</td>\n",
       "      <td>0.066667</td>\n",
       "      <td>52.537845</td>\n",
       "      <td>18.147918</td>\n",
       "      <td>64000.000000</td>\n",
       "      <td>35.500000</td>\n",
       "      <td>4.983389</td>\n",
       "      <td>1114.394232</td>\n",
       "      <td>11.331445</td>\n",
       "      <td>0.000000</td>\n",
       "      <td>23.945353</td>\n",
       "      <td>0.155890</td>\n",
       "      <td>0.000000</td>\n",
       "      <td>19.776978</td>\n",
       "      <td>0.723589</td>\n",
       "      <td>235.151986</td>\n",
       "      <td>15.000000</td>\n",
       "      <td>8892.968012</td>\n",
       "    </tr>\n",
       "    <tr>\n",
       "      <th>75%</th>\n",
       "      <td>2035.000000</td>\n",
       "      <td>18.469154</td>\n",
       "      <td>0.200000</td>\n",
       "      <td>72.517231</td>\n",
       "      <td>36.345727</td>\n",
       "      <td>89658.000000</td>\n",
       "      <td>41.850000</td>\n",
       "      <td>10.833459</td>\n",
       "      <td>1795.593668</td>\n",
       "      <td>23.253436</td>\n",
       "      <td>1.000000</td>\n",
       "      <td>36.471239</td>\n",
       "      <td>0.289497</td>\n",
       "      <td>4.000000</td>\n",
       "      <td>33.753809</td>\n",
       "      <td>2.470152</td>\n",
       "      <td>343.039617</td>\n",
       "      <td>26.000000</td>\n",
       "      <td>14201.840846</td>\n",
       "    </tr>\n",
       "    <tr>\n",
       "      <th>max</th>\n",
       "      <td>16326.000000</td>\n",
       "      <td>1384.615385</td>\n",
       "      <td>1.000000</td>\n",
       "      <td>100.000000</td>\n",
       "      <td>100.000000</td>\n",
       "      <td>250000.000000</td>\n",
       "      <td>82.300000</td>\n",
       "      <td>56.331878</td>\n",
       "      <td>7260.844362</td>\n",
       "      <td>10038.461538</td>\n",
       "      <td>7.000000</td>\n",
       "      <td>82.054054</td>\n",
       "      <td>24.002545</td>\n",
       "      <td>82.608696</td>\n",
       "      <td>82.608696</td>\n",
       "      <td>153.846154</td>\n",
       "      <td>3645.569726</td>\n",
       "      <td>301.000000</td>\n",
       "      <td>59560.590338</td>\n",
       "    </tr>\n",
       "  </tbody>\n",
       "</table>\n",
       "</div>"
      ],
      "text/plain": [
       "          total_pop  rep_per_cap  graffiti_per   white_per   latin_per  \\\n",
       "count    835.000000   835.000000    835.000000  835.000000  835.000000   \n",
       "mean    1647.214371    17.716968      0.130749   48.047883   27.664681   \n",
       "std     1179.883394    51.413443      0.170677   28.613936   24.980165   \n",
       "min       26.000000     0.000000      0.000000    0.000000    0.000000   \n",
       "25%      980.500000     5.263408      0.000000   22.499528    9.570969   \n",
       "50%     1410.000000    10.139860      0.066667   52.537845   18.147918   \n",
       "75%     2035.000000    18.469154      0.200000   72.517231   36.345727   \n",
       "max    16326.000000  1384.615385      1.000000  100.000000  100.000000   \n",
       "\n",
       "       median_house_income  median_age  limited_english_households_per  \\\n",
       "count           835.000000  835.000000                      835.000000   \n",
       "mean          70392.211976   36.747425                        7.655691   \n",
       "std           34877.355135    9.334050                        8.980896   \n",
       "min              -1.000000   12.400000                        0.000000   \n",
       "25%           45055.500000   30.250000                        1.022383   \n",
       "50%           64000.000000   35.500000                        4.983389   \n",
       "75%           89658.000000   41.850000                       10.833459   \n",
       "max          250000.000000   82.300000                       56.331878   \n",
       "\n",
       "       tree_density  crime_per_cap    ap_count  predicted_labels    landarea  \\\n",
       "count    835.000000     835.000000  835.000000        835.000000  835.000000   \n",
       "mean    1354.120933      33.539292    0.396407         25.197507    0.420307   \n",
       "std      950.087535     348.997197    0.801519         17.918503    1.506375   \n",
       "min        0.000000       0.000000    0.000000          0.000000    0.023625   \n",
       "25%      730.932779       5.333703    0.000000         11.630336    0.088734   \n",
       "50%     1114.394232      11.331445    0.000000         23.945353    0.155890   \n",
       "75%     1795.593668      23.253436    1.000000         36.471239    0.289497   \n",
       "max     7260.844362   10038.461538    7.000000         82.054054   24.002545   \n",
       "\n",
       "       graffiti_reported_per  combined_labels  graffiti_per_cap   sl_density  \\\n",
       "count             835.000000       835.000000        835.000000   835.000000   \n",
       "mean                5.218007        22.449121          2.881359   301.286434   \n",
       "std                12.030302        17.979098          8.757547   334.301843   \n",
       "min                 0.000000         0.000000          0.000000     0.000000   \n",
       "25%                 0.000000         7.190809          0.000000   154.733918   \n",
       "50%                 0.000000        19.776978          0.723589   235.151986   \n",
       "75%                 4.000000        33.753809          2.470152   343.039617   \n",
       "max                82.608696        82.608696        153.846154  3645.569726   \n",
       "\n",
       "            count  population_density  \n",
       "count  835.000000          835.000000  \n",
       "mean    21.847904        10788.168203  \n",
       "std     26.014423         8293.533331  \n",
       "min      0.000000           20.557691  \n",
       "25%      8.000000         5107.938288  \n",
       "50%     15.000000         8892.968012  \n",
       "75%     26.000000        14201.840846  \n",
       "max    301.000000        59560.590338  "
      ]
     },
     "execution_count": 330,
     "metadata": {},
     "output_type": "execute_result"
    }
   ],
   "source": [
    "predictions[['total_pop', 'rep_per_cap', 'graffiti_per', 'white_per', 'latin_per', \n",
    "                 'median_house_income', 'median_age', 'limited_english_households_per', \n",
    "                 'tree_density', 'crime_per_cap', 'ap_count', 'predicted_labels', 'landarea', \n",
    "            'graffiti_reported_per', 'combined_labels', 'graffiti_per_cap', \n",
    "            'sl_density', 'count', 'population_density']].describe()"
   ]
  },
  {
   "cell_type": "markdown",
   "metadata": {},
   "source": [
    "        \"PREDICTED_\": \"0.414026738229\", \n",
    "        \"LIMITED_EN\": \"0.302272727273\", \n",
    "        \"FUNCSTAT\": \"S\", \n",
    "        \"AWATER\": 0, \n",
    "        \"COUNTYFP\": \"073\", \n",
    "        \"LATIN_PER\": \"0.969094922737\", \n",
    "        \"MTFCC\": \"G5030\", \n",
    "        \"STATEFP\": \"06\", \n",
    "        \"INTPTLAT\": \"+32.5564082\", \n",
    "        \"BLKGRPCE\": \"2\", \n",
    "        \"CRIME_PER_\": \"0.0\", \n",
    "        \"INTPTLON\": \"-117.0507980\", \n",
    "        \"MEDIAN_AGE\": \"29.0\", \n",
    "        \"NAMELSAD\": \"Block Group 2\", \n",
    "        \"MEDIAN_HOU\": \"29516.0\", \n",
    "        \"TRACTCE\": \"010013\", \n",
    "        \"WHITE_PER\": \"0.0140728476821\", \n",
    "        \"TOTAL_POP\": \"3624.0\", \n",
    "        \"GEOID\": \"060730100132\", \n",
    "        \"ALAND\": 404606, \n",
    "        \"AP_COUNT\": \"0.0\", \n",
    "        \"TREE_DENSI\": \"0.000402861054952\", \n",
    "        \"REP_PER_CA\": \"0.0030353200883\", \n",
    "        \"GRAFFITI_P\": \"0.636363636364\"\n"
   ]
  },
  {
   "cell_type": "code",
   "execution_count": 332,
   "metadata": {
    "collapsed": false
   },
   "outputs": [],
   "source": [
    "# read the shapefile\n",
    "#reader = sf.Reader(\"shapefiles/sandiego_city_blockgroups.shp\")\n",
    "reader = sf.Reader(\"shapefiles/sandiego_city_blockgroups_modeladded.shp\")\n",
    "\n",
    "w = sf.Writer()\n",
    "\n",
    "# Copy over the existing fields\n",
    "w.fields = list(reader.fields)\n",
    "\n",
    "#column_values = ['total_pop', 'rep_per_cap', 'graffiti_per', 'white_per', 'latin_per', \n",
    "#                 'median_house_income', 'median_age', 'limited_english_households_per', \n",
    "#                 'tree_density', 'crime_per_cap', 'ap_count', 'predicted_labels']\n",
    "\n",
    "i = 'graffiti_reported_per'\n",
    "#w.field(i.upper(), \"D\", \"40\")\n",
    "w.field(i.upper(), \"D\", \"40\")\n",
    "\n",
    "for j, rec in enumerate(reader.records()): \n",
    "    rec.append(predictions.loc[j, i])\n",
    "    # Add the modified record to the new shapefile \n",
    "    w.records.append(rec)\n",
    "\n",
    "# Copy over the geometry without any changes\n",
    "w._shapes.extend(reader.shapes())\n",
    "\n",
    "# Save as a new shapefile (or write over the old one)\n",
    "w.save(\"shapefiles/sandiego_city_blockgroups_modeladded.shp\") \n"
   ]
  },
  {
   "cell_type": "markdown",
   "metadata": {
    "collapsed": true
   },
   "source": [
    "Convert shapefile into geoJSON file for displaye"
   ]
  },
  {
   "cell_type": "code",
   "execution_count": 333,
   "metadata": {
    "collapsed": true
   },
   "outputs": [],
   "source": [
    "# read the shapefile\n",
    "reader2 = sf.Reader(\"shapefiles/sandiego_city_blockgroups_modeladded.shp\")\n",
    "\n",
    "fields = reader2.fields[1:]\n",
    "field_names = [field[0] for field in fields]\n",
    "buffer = []\n",
    "for sr in reader2.shapeRecords():\n",
    "    atr = dict(zip(field_names, sr.record))\n",
    "    geom = sr.shape.__geo_interface__\n",
    "    buffer.append(dict(type=\"Feature\", \\\n",
    "    geometry=geom, properties=atr)) \n",
    "   "
   ]
  },
  {
   "cell_type": "code",
   "execution_count": 334,
   "metadata": {
    "collapsed": false
   },
   "outputs": [],
   "source": [
    "# write the GeoJSON file\n",
    "from json import dumps\n",
    "geojson = open(\"shapefiles/sandiego_city_blockgroups_modeladded.js\", \"w\")\n",
    "geojson.write(dumps({\"type\": \"FeatureCollection\",\n",
    "                     \"features\": buffer}, indent=2) + \"\\n\")\n",
    "geojson.close()\n"
   ]
  },
  {
   "cell_type": "code",
   "execution_count": null,
   "metadata": {
    "collapsed": true
   },
   "outputs": [],
   "source": []
  }
 ],
 "metadata": {
  "anaconda-cloud": {},
  "kernelspec": {
   "display_name": "Python [default]",
   "language": "python",
   "name": "python2"
  },
  "language_info": {
   "codemirror_mode": {
    "name": "ipython",
    "version": 2
   },
   "file_extension": ".py",
   "mimetype": "text/x-python",
   "name": "python",
   "nbconvert_exporter": "python",
   "pygments_lexer": "ipython2",
   "version": "2.7.12"
  }
 },
 "nbformat": 4,
 "nbformat_minor": 1
}
