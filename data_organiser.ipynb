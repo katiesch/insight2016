{
 "cells": [
  {
   "cell_type": "markdown",
   "metadata": {
    "collapsed": true
   },
   "source": [
    "### Requests Processing: \n",
    "\n",
    "process_requests.ipynb\n",
    "#### - requests_processed_xxxx.csv \n",
    "    - individual request information\n",
    "    - Description\n",
    "    - Age/Response time\n",
    "    - census IDs \n",
    "    - distance from street light\n",
    "    \n",
    "#### - total_reports_demo_xxxx.csv\n",
    "    - Reports organised by tract and blockgroup\n",
    "    - Has mean distance from a street light for each BG\n",
    "    - Central lat/lon of BG\n",
    "    - Has total population per BG\n",
    "    - Number of reports, reports per capita, percentage of reports graffiti related, etc"
   ]
  },
  {
   "cell_type": "markdown",
   "metadata": {
    "collapsed": true
   },
   "source": []
  },
  {
   "cell_type": "markdown",
   "metadata": {
    "collapsed": true
   },
   "source": []
  },
  {
   "cell_type": "markdown",
   "metadata": {
    "collapsed": true
   },
   "source": []
  }
 ],
 "metadata": {
  "anaconda-cloud": {},
  "kernelspec": {
   "display_name": "Python [default]",
   "language": "python",
   "name": "python2"
  },
  "language_info": {
   "codemirror_mode": {
    "name": "ipython",
    "version": 2
   },
   "file_extension": ".py",
   "mimetype": "text/x-python",
   "name": "python",
   "nbconvert_exporter": "python",
   "pygments_lexer": "ipython2",
   "version": "2.7.12"
  }
 },
 "nbformat": 4,
 "nbformat_minor": 1
}
