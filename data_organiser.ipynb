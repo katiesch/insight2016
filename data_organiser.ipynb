{
 "cells": [
  {
   "cell_type": "markdown",
   "metadata": {
    "collapsed": true
   },
   "source": [
    "## Requests Processing: \n",
    "\n",
    "### process_requests.ipynb\n",
    "#### - requests_processed_xxxx.csv \n",
    "    - individual request information\n",
    "    - Description\n",
    "    - Age/Response time\n",
    "    - census IDs \n",
    "    - distance from street light\n",
    "    \n",
    "#### - total_reports_demo_xxxx.csv\n",
    "    - Reports organised by tract and blockgroup\n",
    "    - Has mean distance from a street light for each BG\n",
    "    - Central lat/lon of BG\n",
    "    - Has total population per BG\n",
    "    - Number of reports, reports per capita, percentage of reports graffiti related, etc\n",
    "    - Whether or not the census tract falls within the San Diego municipal area"
   ]
  },
  {
   "cell_type": "markdown",
   "metadata": {},
   "source": [
    "## Code Violations Processing\n",
    "\n",
    "### code_violations.ipynb\n",
    "\n",
    "#### - code_violations_6mo_all.csv\n",
    "    - Has case-by-case information.\n",
    "    - Matched with tract, blockgroup \n",
    "    - Not sorted at all by type of case\n",
    "\n",
    "#### - code_violations_6mo_bg.csv\n",
    "    - Number of code violations for each tract/blockgroup with reports"
   ]
  },
  {
   "cell_type": "markdown",
   "metadata": {},
   "source": [
    "## Arrest Record Processing\n",
    "\n",
    "### police_calls.ipynb\n",
    "\n",
    "#### - police_arrests_prelim.csv\n",
    "    - Has case-by-case information for every police call where an arrest was made.\n",
    "    - Matched with tract, blockgroup. Also added in the lat/lon of the call request \n",
    "    - Not sorted at all by type of case\n",
    "\n",
    "#### - police_arrests_bg.csv\n",
    "    - Number of police arrests for each tract/blockgroup"
   ]
  },
  {
   "cell_type": "markdown",
   "metadata": {
    "collapsed": true
   },
   "source": [
    "## Census Data Processing: \n",
    "\n",
    "Downloaded information for individual block groups in San Diego county from American Fact Finder site. \n",
    "\n",
    "### process_census.ipynb\n",
    "\n",
    "#### - census_trimmed_xxxx.csv\n",
    "    - Organised by blockgroup\n",
    "    - Has age breakdowns, race breakdowns, median age by "
   ]
  },
  {
   "cell_type": "markdown",
   "metadata": {
    "collapsed": true
   },
   "source": []
  },
  {
   "cell_type": "markdown",
   "metadata": {
    "collapsed": true
   },
   "source": []
  }
 ],
 "metadata": {
  "anaconda-cloud": {},
  "kernelspec": {
   "display_name": "Python [default]",
   "language": "python",
   "name": "python2"
  },
  "language_info": {
   "codemirror_mode": {
    "name": "ipython",
    "version": 2
   },
   "file_extension": ".py",
   "mimetype": "text/x-python",
   "name": "python",
   "nbconvert_exporter": "python",
   "pygments_lexer": "ipython2",
   "version": "2.7.12"
  }
 },
 "nbformat": 4,
 "nbformat_minor": 1
}
