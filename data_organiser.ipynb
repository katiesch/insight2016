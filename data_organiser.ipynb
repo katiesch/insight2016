{
 "cells": [
  {
   "cell_type": "markdown",
   "metadata": {},
   "source": [
    "# Data Processing"
   ]
  },
  {
   "cell_type": "markdown",
   "metadata": {
    "collapsed": true
   },
   "source": [
    "## Requests Processing: \n",
    "\n",
    "### process_requests.ipynb\n",
    "#### - requests_processed_xxxx.csv \n",
    "    - individual request information\n",
    "    - Description\n",
    "    - Age/Response time\n",
    "    - census IDs \n",
    "    - distance from street light\n",
    "    \n",
    "#### - total_reports_demo_xxxx.csv\n",
    "    - Reports organised by tract and blockgroup\n",
    "    - Has mean distance from a street light for each BG\n",
    "    - Central lat/lon of BG\n",
    "    - Has total population per BG\n",
    "    - Number of reports, reports per capita, percentage of reports graffiti related, etc\n",
    "    - Whether or not the census tract falls within the San Diego municipal area"
   ]
  },
  {
   "cell_type": "markdown",
   "metadata": {},
   "source": [
    "## Code Violations Processing\n",
    "\n",
    "### code_violations.ipynb\n",
    "\n",
    "#### - code_violations_6mo_all.csv\n",
    "    - Has case-by-case information.\n",
    "    - Matched with tract, blockgroup \n",
    "    - Not sorted at all by type of case\n",
    "\n",
    "#### - code_violations_6mo_bg.csv\n",
    "    - Number of code violations for each tract/blockgroup with reports"
   ]
  },
  {
   "cell_type": "markdown",
   "metadata": {},
   "source": [
    "## Street Light Analysis\n",
    "\n",
    "### streetlight_density.ipynb\n",
    "\n",
    "#### - sl_records_all.csv\n",
    "    - Lists every street light and it's associated latitude and longitude \n",
    "    - Also lists its tract and block group\n",
    "\n",
    "#### - sdcounty_sldistance.csv\n",
    "    - Puts 250 random points in each block group and measures the distance between those random points and the nearest street light to get a sense of how the graffiti/dumping-streetlight distance compares.\n",
    "    - Looks like the median and mean distance of these events from a street light is smaller than the distance associated with random points... Harrumph."
   ]
  },
  {
   "cell_type": "markdown",
   "metadata": {},
   "source": [
    "## Arrest Record Processing\n",
    "\n",
    "### police_calls.ipynb\n",
    "\n",
    "#### - police_arrests_prelim.csv\n",
    "    - Has case-by-case information for every police call where an arrest was made.\n",
    "    - Matched with tract, blockgroup. Also added in the lat/lon of the call request \n",
    "    - Not sorted at all by type of case\n",
    "\n",
    "#### - police_arrests_bg.csv\n",
    "    - Number of police arrests for each tract/blockgroup"
   ]
  },
  {
   "cell_type": "markdown",
   "metadata": {},
   "source": [
    "## Tree Distribution Processing: \n",
    "\n",
    "Downloaded information of all the public trees in San Diego. Note that this information doesn't include Balboa park for some reason (?!). \n",
    "\n",
    "### tree_density.ipyb\n",
    "\n",
    "#### - tree_records_all.csv\n",
    " - Has geocoded information for each individual tree\n",
    " - Also has lat/long\n",
    "\n",
    "#### - tree_bg.csv\n",
    " - Tree information sorted by blockgroup"
   ]
  },
  {
   "cell_type": "markdown",
   "metadata": {
    "collapsed": true
   },
   "source": [
    "## Census Data Processing: \n",
    "\n",
    "Downloaded information for individual block groups in San Diego county from American Fact Finder site. \n",
    "\n",
    "### process_census.ipynb\n",
    "\n",
    "#### - census_trimmed_xxxx.csv\n",
    "    - Organised by blockgroup\n",
    "    - Has age breakdowns, race breakdowns\n",
    "    - Median age, income, home value, etc. \n",
    "    - Also has fraction of households with limited english"
   ]
  },
  {
   "cell_type": "code",
   "execution_count": null,
   "metadata": {
    "collapsed": true
   },
   "outputs": [],
   "source": []
  }
 ],
 "metadata": {
  "anaconda-cloud": {},
  "kernelspec": {
   "display_name": "Python [default]",
   "language": "python",
   "name": "python2"
  },
  "language_info": {
   "codemirror_mode": {
    "name": "ipython",
    "version": 2
   },
   "file_extension": ".py",
   "mimetype": "text/x-python",
   "name": "python",
   "nbconvert_exporter": "python",
   "pygments_lexer": "ipython2",
   "version": "2.7.12"
  }
 },
 "nbformat": 4,
 "nbformat_minor": 1
}
