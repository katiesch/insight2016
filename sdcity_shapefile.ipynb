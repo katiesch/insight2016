{
 "cells": [
  {
   "cell_type": "code",
   "execution_count": 1,
   "metadata": {
    "collapsed": true
   },
   "outputs": [],
   "source": [
    "%matplotlib inline \n",
    "\n",
    "import numpy as np\n",
    "import matplotlib.pyplot as plt\n",
    "import pandas as pd\n",
    "import os\n",
    "import glob\n",
    "import sklearn\n",
    "import datetime\n",
    "import array \n",
    "import math\n",
    "\n",
    "import shapefile as sf\n",
    "from matplotlib.patches import Polygon\n",
    "import mpld3\n",
    "\n",
    "from pyproj import Proj\n",
    "from censusgeocode import CensusGeocode\n",
    "from matplotlib.collections import PatchCollection"
   ]
  },
  {
   "cell_type": "code",
   "execution_count": 7,
   "metadata": {
    "collapsed": true
   },
   "outputs": [],
   "source": [
    "r = sf.Reader('shapefiles/tl_2016_06_bg/tl_2016_06_bg.shp')\n",
    "# Create a writer instance\n",
    "w = sf.Writer(shapeType=sf.POLYGON)"
   ]
  },
  {
   "cell_type": "code",
   "execution_count": 8,
   "metadata": {
    "collapsed": true
   },
   "outputs": [],
   "source": [
    "# Copy the fields to the writer\n",
    "w.fields = list(r.fields)"
   ]
  },
  {
   "cell_type": "code",
   "execution_count": 12,
   "metadata": {
    "collapsed": false
   },
   "outputs": [],
   "source": [
    "total_reports_demo = pd.read_csv('output_files/total_reports_demo_0917.csv')\n",
    "total_reports_demo.loc[np.where(total_reports_demo==9902.)[0], 'tract_in_city'] = 0.0"
   ]
  },
  {
   "cell_type": "code",
   "execution_count": 13,
   "metadata": {
    "collapsed": true
   },
   "outputs": [],
   "source": [
    "# Grab the geometry and records from all features \n",
    "# with the correct county name \n",
    "selection = [] \n",
    "for rec in enumerate(r.records()):\n",
    "    if ((rec[1][1]=='073') & (rec[1][3]!='0')):\n",
    "        if (len(np.where(sd_city_proper['tract'] == float(rec[1][2]))[0])>0): \n",
    "            temp_tract = float(rec[1][2])\n",
    "            temp_bg = float(rec[1][3])\n",
    "            if (np.array(total_reports_demo.loc[np.where((total_reports_demo['tract']==temp_tract)\n",
    "                                         & (total_reports_demo['blockgroup']==temp_bg))[0], \n",
    "                                 'tract_in_city'])[0]==1.0): \n",
    "                selection.append(rec)\n",
    "\n",
    "# Add the geometry and records to the writer\n",
    "for rec in selection:\n",
    "    w._shapes.append(r.shape(rec[0]))\n",
    "    w.records.append(rec[1])\n",
    "# Save the new shapefile\n",
    "w.save(\"shapefiles/sandiego_city_blockgroups.shp\") "
   ]
  },
  {
   "cell_type": "code",
   "execution_count": null,
   "metadata": {
    "collapsed": true
   },
   "outputs": [],
   "source": []
  }
 ],
 "metadata": {
  "anaconda-cloud": {},
  "kernelspec": {
   "display_name": "Python [default]",
   "language": "python",
   "name": "python2"
  },
  "language_info": {
   "codemirror_mode": {
    "name": "ipython",
    "version": 2
   },
   "file_extension": ".py",
   "mimetype": "text/x-python",
   "name": "python",
   "nbconvert_exporter": "python",
   "pygments_lexer": "ipython2",
   "version": "2.7.12"
  }
 },
 "nbformat": 4,
 "nbformat_minor": 1
}
